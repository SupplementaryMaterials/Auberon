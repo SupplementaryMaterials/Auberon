{
 "cells": [
  {
   "cell_type": "markdown",
   "metadata": {
    "_cell_guid": "ef7c9d00-41b9-2d97-7d1d-52bd64f94a99"
   },
   "source": [
    " 1. Data transformation (log, hot encoding, nan)\n",
    " \n",
    " 2. Testing SVM regression models\n",
    " Applying log transformation really increases the accuracy.\n",
    "\n",
    "Removing columns with more than 1000 NaNs gives better result than applying \"mean\" to them"
   ]
  },
  {
   "cell_type": "code",
   "execution_count": 1,
   "metadata": {
    "_cell_guid": "ae9df898-3a31-c91e-ebd0-d7fe27e6c30c"
   },
   "outputs": [
    {
     "name": "stdout",
     "output_type": "stream",
     "text": [
      "connect to sql server ip 54.ipynb\n",
      "CVAE\n",
      "CVAE.html\n",
      "CVAE.ipynb\n",
      "feature_selection\n",
      "lightGBM\n",
      "patent_dataset_0001percent.csv\n",
      "patent_top500_2013.csv\n",
      "SVR\n",
      "top500_companies_relationship_file.pkl\n",
      "\n"
     ]
    }
   ],
   "source": [
    "import numpy as np # linear algebra\n",
    "import pandas as pd # data processing, CSV file I/O (e.g. pd.read_csv)\n",
    "\n",
    "from sklearn.preprocessing import Imputer\n",
    "\n",
    "from sklearn import svm\n",
    "\n",
    "import warnings\n",
    "warnings.filterwarnings('ignore')\n",
    "\n",
    "from subprocess import check_output\n",
    "print(check_output([\"ls\", \"/home/wang/Desktop/Auberon/paper/1_CCVAE\"]).decode(\"utf8\"))"
   ]
  },
  {
   "cell_type": "code",
   "execution_count": 2,
   "metadata": {
    "_cell_guid": "334684f0-5cfd-1048-a3b6-13dd660c443f"
   },
   "outputs": [],
   "source": [
    "train = pd.read_csv('/home/wang/Desktop/Auberon/paper/1_CCVAE/CVAE/train_data.csv')\n",
    "labels=train[\"TimeCitedFiveYearCNT\"]\n",
    "test = pd.read_csv('/home/wang/Desktop/Auberon/paper/1_CCVAE/CVAE/test_data.csv')\n",
    "data = pd.concat([train,test],ignore_index=True)\n",
    "data = data.drop(\"TimeCitedFiveYearCNT\", 1)\n",
    "ids = test[\"PatentNumber\"]"
   ]
  },
  {
   "cell_type": "code",
   "execution_count": 6,
   "metadata": {
    "_cell_guid": "3415d03d-1ef1-ecac-e81b-3a3637792567"
   },
   "outputs": [
    {
     "data": {
      "text/html": [
       "<div>\n",
       "<style scoped>\n",
       "    .dataframe tbody tr th:only-of-type {\n",
       "        vertical-align: middle;\n",
       "    }\n",
       "\n",
       "    .dataframe tbody tr th {\n",
       "        vertical-align: top;\n",
       "    }\n",
       "\n",
       "    .dataframe thead th {\n",
       "        text-align: right;\n",
       "    }\n",
       "</style>\n",
       "<table border=\"1\" class=\"dataframe\">\n",
       "  <thead>\n",
       "    <tr style=\"text-align: right;\">\n",
       "      <th></th>\n",
       "      <th>PatentNumber</th>\n",
       "      <th>TimeCitedFiveYearCNT</th>\n",
       "      <th>ForeignRefCNT</th>\n",
       "      <th>SUM_For_distance_5Y</th>\n",
       "      <th>ReferenceCNT</th>\n",
       "      <th>GeneralityFiveYear5Class_cpc</th>\n",
       "      <th>GeneralityFiveYear5Class</th>\n",
       "      <th>GeneralityTenYear5Class</th>\n",
       "      <th>Generality5Class</th>\n",
       "      <th>GeneralityFiveYear4Class</th>\n",
       "      <th>...</th>\n",
       "      <th>Originality5Class_cpc</th>\n",
       "      <th>InvCtry_Generality_5Y</th>\n",
       "      <th>CPCCNT</th>\n",
       "      <th>InventorCNT</th>\n",
       "      <th>Originality4Class</th>\n",
       "      <th>Originality4Class_cpc</th>\n",
       "      <th>AssAss_Cultural_Distance</th>\n",
       "      <th>InvInvDistance</th>\n",
       "      <th>Originality3Class_cpc</th>\n",
       "      <th>InventorCountryCNT</th>\n",
       "    </tr>\n",
       "  </thead>\n",
       "  <tbody>\n",
       "    <tr>\n",
       "      <th>0</th>\n",
       "      <td>8350903</td>\n",
       "      <td>0.0</td>\n",
       "      <td>5.0</td>\n",
       "      <td>13.7556</td>\n",
       "      <td>5.0</td>\n",
       "      <td>0.000000</td>\n",
       "      <td>0.000000</td>\n",
       "      <td>0.000000</td>\n",
       "      <td>0.000000</td>\n",
       "      <td>0.000000</td>\n",
       "      <td>...</td>\n",
       "      <td>0.720000</td>\n",
       "      <td>0.00</td>\n",
       "      <td>14.0</td>\n",
       "      <td>2</td>\n",
       "      <td>0.800000</td>\n",
       "      <td>0.480000</td>\n",
       "      <td>0.0</td>\n",
       "      <td>12.64846</td>\n",
       "      <td>0.480000</td>\n",
       "      <td>1</td>\n",
       "    </tr>\n",
       "    <tr>\n",
       "      <th>1</th>\n",
       "      <td>8600431</td>\n",
       "      <td>0.0</td>\n",
       "      <td>8.0</td>\n",
       "      <td>0.0000</td>\n",
       "      <td>1.0</td>\n",
       "      <td>0.000000</td>\n",
       "      <td>0.000000</td>\n",
       "      <td>0.000000</td>\n",
       "      <td>0.000000</td>\n",
       "      <td>0.000000</td>\n",
       "      <td>...</td>\n",
       "      <td>0.000000</td>\n",
       "      <td>0.00</td>\n",
       "      <td>3.0</td>\n",
       "      <td>2</td>\n",
       "      <td>0.000000</td>\n",
       "      <td>0.000000</td>\n",
       "      <td>0.0</td>\n",
       "      <td>211.79955</td>\n",
       "      <td>0.000000</td>\n",
       "      <td>1</td>\n",
       "    </tr>\n",
       "    <tr>\n",
       "      <th>2</th>\n",
       "      <td>8358150</td>\n",
       "      <td>9.0</td>\n",
       "      <td>22.0</td>\n",
       "      <td>212673.2446</td>\n",
       "      <td>1103.0</td>\n",
       "      <td>0.781065</td>\n",
       "      <td>0.915556</td>\n",
       "      <td>0.915556</td>\n",
       "      <td>0.915556</td>\n",
       "      <td>0.791111</td>\n",
       "      <td>...</td>\n",
       "      <td>0.995586</td>\n",
       "      <td>0.32</td>\n",
       "      <td>14.0</td>\n",
       "      <td>2</td>\n",
       "      <td>0.971011</td>\n",
       "      <td>0.962405</td>\n",
       "      <td>0.0</td>\n",
       "      <td>42.89113</td>\n",
       "      <td>0.806227</td>\n",
       "      <td>1</td>\n",
       "    </tr>\n",
       "    <tr>\n",
       "      <th>3</th>\n",
       "      <td>8532449</td>\n",
       "      <td>3.0</td>\n",
       "      <td>0.0</td>\n",
       "      <td>300761.1173</td>\n",
       "      <td>7.0</td>\n",
       "      <td>0.666667</td>\n",
       "      <td>0.444444</td>\n",
       "      <td>0.444444</td>\n",
       "      <td>0.444444</td>\n",
       "      <td>0.000000</td>\n",
       "      <td>...</td>\n",
       "      <td>0.816327</td>\n",
       "      <td>0.00</td>\n",
       "      <td>6.0</td>\n",
       "      <td>2</td>\n",
       "      <td>0.816327</td>\n",
       "      <td>0.734694</td>\n",
       "      <td>0.0</td>\n",
       "      <td>909.99111</td>\n",
       "      <td>0.612245</td>\n",
       "      <td>1</td>\n",
       "    </tr>\n",
       "    <tr>\n",
       "      <th>4</th>\n",
       "      <td>8589228</td>\n",
       "      <td>0.0</td>\n",
       "      <td>0.0</td>\n",
       "      <td>0.0000</td>\n",
       "      <td>3.0</td>\n",
       "      <td>0.000000</td>\n",
       "      <td>0.000000</td>\n",
       "      <td>0.000000</td>\n",
       "      <td>0.000000</td>\n",
       "      <td>0.000000</td>\n",
       "      <td>...</td>\n",
       "      <td>0.000000</td>\n",
       "      <td>0.00</td>\n",
       "      <td>2.0</td>\n",
       "      <td>5</td>\n",
       "      <td>0.666667</td>\n",
       "      <td>0.000000</td>\n",
       "      <td>0.0</td>\n",
       "      <td>3233.20451</td>\n",
       "      <td>0.000000</td>\n",
       "      <td>2</td>\n",
       "    </tr>\n",
       "  </tbody>\n",
       "</table>\n",
       "<p>5 rows × 35 columns</p>\n",
       "</div>"
      ],
      "text/plain": [
       "   PatentNumber  TimeCitedFiveYearCNT  ForeignRefCNT  SUM_For_distance_5Y  \\\n",
       "0       8350903                   0.0            5.0              13.7556   \n",
       "1       8600431                   0.0            8.0               0.0000   \n",
       "2       8358150                   9.0           22.0          212673.2446   \n",
       "3       8532449                   3.0            0.0          300761.1173   \n",
       "4       8589228                   0.0            0.0               0.0000   \n",
       "\n",
       "   ReferenceCNT  GeneralityFiveYear5Class_cpc  GeneralityFiveYear5Class  \\\n",
       "0           5.0                      0.000000                  0.000000   \n",
       "1           1.0                      0.000000                  0.000000   \n",
       "2        1103.0                      0.781065                  0.915556   \n",
       "3           7.0                      0.666667                  0.444444   \n",
       "4           3.0                      0.000000                  0.000000   \n",
       "\n",
       "   GeneralityTenYear5Class  Generality5Class  GeneralityFiveYear4Class  ...  \\\n",
       "0                 0.000000          0.000000                  0.000000  ...   \n",
       "1                 0.000000          0.000000                  0.000000  ...   \n",
       "2                 0.915556          0.915556                  0.791111  ...   \n",
       "3                 0.444444          0.444444                  0.000000  ...   \n",
       "4                 0.000000          0.000000                  0.000000  ...   \n",
       "\n",
       "   Originality5Class_cpc  InvCtry_Generality_5Y  CPCCNT  InventorCNT  \\\n",
       "0               0.720000                   0.00    14.0            2   \n",
       "1               0.000000                   0.00     3.0            2   \n",
       "2               0.995586                   0.32    14.0            2   \n",
       "3               0.816327                   0.00     6.0            2   \n",
       "4               0.000000                   0.00     2.0            5   \n",
       "\n",
       "   Originality4Class  Originality4Class_cpc  AssAss_Cultural_Distance  \\\n",
       "0           0.800000               0.480000                       0.0   \n",
       "1           0.000000               0.000000                       0.0   \n",
       "2           0.971011               0.962405                       0.0   \n",
       "3           0.816327               0.734694                       0.0   \n",
       "4           0.666667               0.000000                       0.0   \n",
       "\n",
       "   InvInvDistance  Originality3Class_cpc  InventorCountryCNT  \n",
       "0        12.64846               0.480000                   1  \n",
       "1       211.79955               0.000000                   1  \n",
       "2        42.89113               0.806227                   1  \n",
       "3       909.99111               0.612245                   1  \n",
       "4      3233.20451               0.000000                   2  \n",
       "\n",
       "[5 rows x 35 columns]"
      ]
     },
     "execution_count": 6,
     "metadata": {},
     "output_type": "execute_result"
    }
   ],
   "source": [
    "train.head()"
   ]
  },
  {
   "cell_type": "code",
   "execution_count": 12,
   "metadata": {
    "_cell_guid": "b4481d4f-f2cf-134a-68c9-0fa34465d302"
   },
   "outputs": [
    {
     "data": {
      "text/plain": [
       "107804"
      ]
     },
     "execution_count": 12,
     "metadata": {},
     "output_type": "execute_result"
    }
   ],
   "source": [
    "# Count the number of rows in train\n",
    "train.shape[0]\n"
   ]
  },
  {
   "cell_type": "code",
   "execution_count": 13,
   "metadata": {
    "_cell_guid": "9bdc3f06-fefe-7bed-5721-a33bedf2d5fd"
   },
   "outputs": [
    {
     "data": {
      "text/plain": [
       "134755"
      ]
     },
     "execution_count": 13,
     "metadata": {},
     "output_type": "execute_result"
    }
   ],
   "source": [
    "# Count the number of rows in total\n",
    "data.shape[0]"
   ]
  },
  {
   "cell_type": "code",
   "execution_count": 14,
   "metadata": {
    "_cell_guid": "98e0139e-ef08-4095-07d7-f752fced66f5"
   },
   "outputs": [
    {
     "data": {
      "text/plain": [
       "Series([], dtype: int64)"
      ]
     },
     "execution_count": 14,
     "metadata": {},
     "output_type": "execute_result"
    }
   ],
   "source": [
    "# Count the number of NaNs each column has.\n",
    "nans=pd.isnull(data).sum()\n",
    "nans[nans>0]"
   ]
  },
  {
   "cell_type": "code",
   "execution_count": 7,
   "metadata": {
    "_cell_guid": "aff53d21-b68e-0bdc-6420-7df5c4a62507"
   },
   "outputs": [],
   "source": [
    "#將欄位處理掉(if needs)\n",
    "# data=data.drop(\"Id\", 1)\n",
    "# data=data.drop(\"Alley\", 1)\n",
    "# data=data.drop(\"Fence\", 1)\n",
    "# data=data.drop(\"MiscFeature\", 1)\n",
    "# data=data.drop(\"PoolQC\", 1)\n",
    "# data=data.drop(\"FireplaceQu\", 1)"
   ]
  },
  {
   "cell_type": "code",
   "execution_count": 15,
   "metadata": {
    "_cell_guid": "8e474a1d-b9dd-45be-ccb4-c304ccc51594"
   },
   "outputs": [
    {
     "data": {
      "text/plain": [
       "float64    30\n",
       "int64       4\n",
       "dtype: int64"
      ]
     },
     "execution_count": 15,
     "metadata": {},
     "output_type": "execute_result"
    }
   ],
   "source": [
    "# Count the column types\n",
    "data.dtypes.value_counts()"
   ]
  },
  {
   "cell_type": "code",
   "execution_count": 16,
   "metadata": {
    "_cell_guid": "939d1013-2d84-1352-b40c-1f12be1debc3"
   },
   "outputs": [
    {
     "data": {
      "text/html": [
       "<div>\n",
       "<style scoped>\n",
       "    .dataframe tbody tr th:only-of-type {\n",
       "        vertical-align: middle;\n",
       "    }\n",
       "\n",
       "    .dataframe tbody tr th {\n",
       "        vertical-align: top;\n",
       "    }\n",
       "\n",
       "    .dataframe thead th {\n",
       "        text-align: right;\n",
       "    }\n",
       "</style>\n",
       "<table border=\"1\" class=\"dataframe\">\n",
       "  <thead>\n",
       "    <tr style=\"text-align: right;\">\n",
       "      <th></th>\n",
       "      <th>PatentNumber</th>\n",
       "      <th>ForeignRefCNT</th>\n",
       "      <th>SUM_For_distance_5Y</th>\n",
       "      <th>ReferenceCNT</th>\n",
       "      <th>GeneralityFiveYear5Class_cpc</th>\n",
       "      <th>GeneralityFiveYear5Class</th>\n",
       "      <th>GeneralityTenYear5Class</th>\n",
       "      <th>Generality5Class</th>\n",
       "      <th>GeneralityFiveYear4Class</th>\n",
       "      <th>GeneralityTenYear4Class</th>\n",
       "      <th>...</th>\n",
       "      <th>Originality5Class_cpc</th>\n",
       "      <th>InvCtry_Generality_5Y</th>\n",
       "      <th>CPCCNT</th>\n",
       "      <th>InventorCNT</th>\n",
       "      <th>Originality4Class</th>\n",
       "      <th>Originality4Class_cpc</th>\n",
       "      <th>AssAss_Cultural_Distance</th>\n",
       "      <th>InvInvDistance</th>\n",
       "      <th>Originality3Class_cpc</th>\n",
       "      <th>InventorCountryCNT</th>\n",
       "    </tr>\n",
       "  </thead>\n",
       "  <tbody>\n",
       "    <tr>\n",
       "      <th>0</th>\n",
       "      <td>8350903</td>\n",
       "      <td>5.0</td>\n",
       "      <td>13.7556</td>\n",
       "      <td>5.0</td>\n",
       "      <td>0.000000</td>\n",
       "      <td>0.000000</td>\n",
       "      <td>0.000000</td>\n",
       "      <td>0.000000</td>\n",
       "      <td>0.000000</td>\n",
       "      <td>0.000000</td>\n",
       "      <td>...</td>\n",
       "      <td>0.720000</td>\n",
       "      <td>0.00</td>\n",
       "      <td>14.0</td>\n",
       "      <td>2</td>\n",
       "      <td>0.800000</td>\n",
       "      <td>0.480000</td>\n",
       "      <td>0.0</td>\n",
       "      <td>12.64846</td>\n",
       "      <td>0.480000</td>\n",
       "      <td>1</td>\n",
       "    </tr>\n",
       "    <tr>\n",
       "      <th>1</th>\n",
       "      <td>8600431</td>\n",
       "      <td>8.0</td>\n",
       "      <td>0.0000</td>\n",
       "      <td>1.0</td>\n",
       "      <td>0.000000</td>\n",
       "      <td>0.000000</td>\n",
       "      <td>0.000000</td>\n",
       "      <td>0.000000</td>\n",
       "      <td>0.000000</td>\n",
       "      <td>0.000000</td>\n",
       "      <td>...</td>\n",
       "      <td>0.000000</td>\n",
       "      <td>0.00</td>\n",
       "      <td>3.0</td>\n",
       "      <td>2</td>\n",
       "      <td>0.000000</td>\n",
       "      <td>0.000000</td>\n",
       "      <td>0.0</td>\n",
       "      <td>211.79955</td>\n",
       "      <td>0.000000</td>\n",
       "      <td>1</td>\n",
       "    </tr>\n",
       "    <tr>\n",
       "      <th>2</th>\n",
       "      <td>8358150</td>\n",
       "      <td>22.0</td>\n",
       "      <td>212673.2446</td>\n",
       "      <td>1103.0</td>\n",
       "      <td>0.781065</td>\n",
       "      <td>0.915556</td>\n",
       "      <td>0.915556</td>\n",
       "      <td>0.915556</td>\n",
       "      <td>0.791111</td>\n",
       "      <td>0.791111</td>\n",
       "      <td>...</td>\n",
       "      <td>0.995586</td>\n",
       "      <td>0.32</td>\n",
       "      <td>14.0</td>\n",
       "      <td>2</td>\n",
       "      <td>0.971011</td>\n",
       "      <td>0.962405</td>\n",
       "      <td>0.0</td>\n",
       "      <td>42.89113</td>\n",
       "      <td>0.806227</td>\n",
       "      <td>1</td>\n",
       "    </tr>\n",
       "    <tr>\n",
       "      <th>3</th>\n",
       "      <td>8532449</td>\n",
       "      <td>0.0</td>\n",
       "      <td>300761.1173</td>\n",
       "      <td>7.0</td>\n",
       "      <td>0.666667</td>\n",
       "      <td>0.444444</td>\n",
       "      <td>0.444444</td>\n",
       "      <td>0.444444</td>\n",
       "      <td>0.000000</td>\n",
       "      <td>0.000000</td>\n",
       "      <td>...</td>\n",
       "      <td>0.816327</td>\n",
       "      <td>0.00</td>\n",
       "      <td>6.0</td>\n",
       "      <td>2</td>\n",
       "      <td>0.816327</td>\n",
       "      <td>0.734694</td>\n",
       "      <td>0.0</td>\n",
       "      <td>909.99111</td>\n",
       "      <td>0.612245</td>\n",
       "      <td>1</td>\n",
       "    </tr>\n",
       "    <tr>\n",
       "      <th>4</th>\n",
       "      <td>8589228</td>\n",
       "      <td>0.0</td>\n",
       "      <td>0.0000</td>\n",
       "      <td>3.0</td>\n",
       "      <td>0.000000</td>\n",
       "      <td>0.000000</td>\n",
       "      <td>0.000000</td>\n",
       "      <td>0.000000</td>\n",
       "      <td>0.000000</td>\n",
       "      <td>0.000000</td>\n",
       "      <td>...</td>\n",
       "      <td>0.000000</td>\n",
       "      <td>0.00</td>\n",
       "      <td>2.0</td>\n",
       "      <td>5</td>\n",
       "      <td>0.666667</td>\n",
       "      <td>0.000000</td>\n",
       "      <td>0.0</td>\n",
       "      <td>3233.20451</td>\n",
       "      <td>0.000000</td>\n",
       "      <td>2</td>\n",
       "    </tr>\n",
       "  </tbody>\n",
       "</table>\n",
       "<p>5 rows × 34 columns</p>\n",
       "</div>"
      ],
      "text/plain": [
       "   PatentNumber  ForeignRefCNT  SUM_For_distance_5Y  ReferenceCNT  \\\n",
       "0       8350903            5.0              13.7556           5.0   \n",
       "1       8600431            8.0               0.0000           1.0   \n",
       "2       8358150           22.0          212673.2446        1103.0   \n",
       "3       8532449            0.0          300761.1173           7.0   \n",
       "4       8589228            0.0               0.0000           3.0   \n",
       "\n",
       "   GeneralityFiveYear5Class_cpc  GeneralityFiveYear5Class  \\\n",
       "0                      0.000000                  0.000000   \n",
       "1                      0.000000                  0.000000   \n",
       "2                      0.781065                  0.915556   \n",
       "3                      0.666667                  0.444444   \n",
       "4                      0.000000                  0.000000   \n",
       "\n",
       "   GeneralityTenYear5Class  Generality5Class  GeneralityFiveYear4Class  \\\n",
       "0                 0.000000          0.000000                  0.000000   \n",
       "1                 0.000000          0.000000                  0.000000   \n",
       "2                 0.915556          0.915556                  0.791111   \n",
       "3                 0.444444          0.444444                  0.000000   \n",
       "4                 0.000000          0.000000                  0.000000   \n",
       "\n",
       "   GeneralityTenYear4Class  ...  Originality5Class_cpc  InvCtry_Generality_5Y  \\\n",
       "0                 0.000000  ...               0.720000                   0.00   \n",
       "1                 0.000000  ...               0.000000                   0.00   \n",
       "2                 0.791111  ...               0.995586                   0.32   \n",
       "3                 0.000000  ...               0.816327                   0.00   \n",
       "4                 0.000000  ...               0.000000                   0.00   \n",
       "\n",
       "   CPCCNT  InventorCNT  Originality4Class  Originality4Class_cpc  \\\n",
       "0    14.0            2           0.800000               0.480000   \n",
       "1     3.0            2           0.000000               0.000000   \n",
       "2    14.0            2           0.971011               0.962405   \n",
       "3     6.0            2           0.816327               0.734694   \n",
       "4     2.0            5           0.666667               0.000000   \n",
       "\n",
       "   AssAss_Cultural_Distance  InvInvDistance  Originality3Class_cpc  \\\n",
       "0                       0.0        12.64846               0.480000   \n",
       "1                       0.0       211.79955               0.000000   \n",
       "2                       0.0        42.89113               0.806227   \n",
       "3                       0.0       909.99111               0.612245   \n",
       "4                       0.0      3233.20451               0.000000   \n",
       "\n",
       "   InventorCountryCNT  \n",
       "0                   1  \n",
       "1                   1  \n",
       "2                   1  \n",
       "3                   1  \n",
       "4                   2  \n",
       "\n",
       "[5 rows x 34 columns]"
      ]
     },
     "execution_count": 16,
     "metadata": {},
     "output_type": "execute_result"
    }
   ],
   "source": [
    "data.head()"
   ]
  },
  {
   "cell_type": "code",
   "execution_count": 10,
   "metadata": {
    "_cell_guid": "1a289ba0-99b8-94ed-37cf-bcf5919de933"
   },
   "outputs": [],
   "source": [
    "#找出類別型資料(if needs)\n",
    "# all_columns = data.columns.values\n",
    "# non_categorical = [\"LotFrontage\", \"LotArea\", \"MasVnrArea\", \"BsmtFinSF1\", \n",
    "#                    \"BsmtFinSF2\", \"BsmtUnfSF\", \"TotalBsmtSF\", \"1stFlrSF\", \n",
    "#                    \"2ndFlrSF\", \"LowQualFinSF\", \"GrLivArea\", \"GarageArea\", \n",
    "#                    \"WoodDeckSF\", \"OpenPorchSF\", \"EnclosedPorch\", \"3SsnPorch\", \n",
    "#                    \"ScreenPorch\",\"PoolArea\", \"MiscVal\"]\n",
    "\n",
    "# categorical = [value for value in all_columns if value not in non_categorical]"
   ]
  },
  {
   "cell_type": "code",
   "execution_count": 22,
   "metadata": {
    "_cell_guid": "df32e1c0-637e-5172-0b1c-dddf1b78374b"
   },
   "outputs": [],
   "source": [
    "# One Hot Encoding and nan transformation\n",
    "data = pd.get_dummies(data)\n",
    "\n",
    "imp = Imputer(missing_values='NaN', strategy='most_frequent', axis=0)\n",
    "data = imp.fit_transform(data)\n",
    "\n",
    "# Log transformation\n",
    "data = np.log(data)\n",
    "labels = np.log(labels)\n",
    "\n",
    "# Change -inf to 0 again\n",
    "data[data==-np.inf]=0"
   ]
  },
  {
   "cell_type": "code",
   "execution_count": 23,
   "metadata": {
    "_cell_guid": "75e0052e-25e2-3f86-a927-a032ed710240"
   },
   "outputs": [],
   "source": [
    "# Split traing and test\n",
    "train = data[:107804]\n",
    "test = data[107804:]"
   ]
  },
  {
   "cell_type": "code",
   "execution_count": 24,
   "metadata": {
    "_cell_guid": "08b9b85f-ad85-5c96-f870-8dc507f83ec7"
   },
   "outputs": [
    {
     "data": {
      "text/plain": [
       "(107804, 34)"
      ]
     },
     "execution_count": 24,
     "metadata": {},
     "output_type": "execute_result"
    }
   ],
   "source": [
    "train.shape"
   ]
  },
  {
   "cell_type": "code",
   "execution_count": 25,
   "metadata": {
    "_cell_guid": "7f4f2313-c354-ae56-401f-117ed6b40a54"
   },
   "outputs": [
    {
     "data": {
      "text/plain": [
       "(107804,)"
      ]
     },
     "execution_count": 25,
     "metadata": {},
     "output_type": "execute_result"
    }
   ],
   "source": [
    "labels.shape"
   ]
  },
  {
   "cell_type": "code",
   "execution_count": 26,
   "metadata": {
    "_cell_guid": "0333c954-ac2b-250d-05ae-fb38a8caa299"
   },
   "outputs": [],
   "source": [
    "clf = svm.SVR(kernel=\"rbf\")"
   ]
  },
  {
   "cell_type": "code",
   "execution_count": 27,
   "metadata": {
    "_cell_guid": "e4ecd7f6-d69c-1193-71a5-3e621cdbcb00"
   },
   "outputs": [
    {
     "ename": "ValueError",
     "evalue": "Input contains NaN, infinity or a value too large for dtype('float64').",
     "output_type": "error",
     "traceback": [
      "\u001b[0;31m---------------------------------------------------------------------------\u001b[0m",
      "\u001b[0;31mValueError\u001b[0m                                Traceback (most recent call last)",
      "\u001b[0;32m<ipython-input-27-48f4ce904261>\u001b[0m in \u001b[0;36m<module>\u001b[0;34m\u001b[0m\n\u001b[0;32m----> 1\u001b[0;31m \u001b[0mclf\u001b[0m\u001b[0;34m.\u001b[0m\u001b[0mfit\u001b[0m\u001b[0;34m(\u001b[0m\u001b[0mtrain\u001b[0m\u001b[0;34m,\u001b[0m\u001b[0mlabels\u001b[0m\u001b[0;34m)\u001b[0m\u001b[0;34m\u001b[0m\u001b[0;34m\u001b[0m\u001b[0m\n\u001b[0m",
      "\u001b[0;32m~/anaconda3/lib/python3.7/site-packages/sklearn/svm/base.py\u001b[0m in \u001b[0;36mfit\u001b[0;34m(self, X, y, sample_weight)\u001b[0m\n\u001b[1;32m    147\u001b[0m         X, y = check_X_y(X, y, dtype=np.float64,\n\u001b[1;32m    148\u001b[0m                          \u001b[0morder\u001b[0m\u001b[0;34m=\u001b[0m\u001b[0;34m'C'\u001b[0m\u001b[0;34m,\u001b[0m \u001b[0maccept_sparse\u001b[0m\u001b[0;34m=\u001b[0m\u001b[0;34m'csr'\u001b[0m\u001b[0;34m,\u001b[0m\u001b[0;34m\u001b[0m\u001b[0;34m\u001b[0m\u001b[0m\n\u001b[0;32m--> 149\u001b[0;31m                          accept_large_sparse=False)\n\u001b[0m\u001b[1;32m    150\u001b[0m         \u001b[0my\u001b[0m \u001b[0;34m=\u001b[0m \u001b[0mself\u001b[0m\u001b[0;34m.\u001b[0m\u001b[0m_validate_targets\u001b[0m\u001b[0;34m(\u001b[0m\u001b[0my\u001b[0m\u001b[0;34m)\u001b[0m\u001b[0;34m\u001b[0m\u001b[0;34m\u001b[0m\u001b[0m\n\u001b[1;32m    151\u001b[0m \u001b[0;34m\u001b[0m\u001b[0m\n",
      "\u001b[0;32m~/anaconda3/lib/python3.7/site-packages/sklearn/utils/validation.py\u001b[0m in \u001b[0;36mcheck_X_y\u001b[0;34m(X, y, accept_sparse, accept_large_sparse, dtype, order, copy, force_all_finite, ensure_2d, allow_nd, multi_output, ensure_min_samples, ensure_min_features, y_numeric, warn_on_dtype, estimator)\u001b[0m\n\u001b[1;32m    760\u001b[0m     \u001b[0;32melse\u001b[0m\u001b[0;34m:\u001b[0m\u001b[0;34m\u001b[0m\u001b[0;34m\u001b[0m\u001b[0m\n\u001b[1;32m    761\u001b[0m         \u001b[0my\u001b[0m \u001b[0;34m=\u001b[0m \u001b[0mcolumn_or_1d\u001b[0m\u001b[0;34m(\u001b[0m\u001b[0my\u001b[0m\u001b[0;34m,\u001b[0m \u001b[0mwarn\u001b[0m\u001b[0;34m=\u001b[0m\u001b[0;32mTrue\u001b[0m\u001b[0;34m)\u001b[0m\u001b[0;34m\u001b[0m\u001b[0;34m\u001b[0m\u001b[0m\n\u001b[0;32m--> 762\u001b[0;31m         \u001b[0m_assert_all_finite\u001b[0m\u001b[0;34m(\u001b[0m\u001b[0my\u001b[0m\u001b[0;34m)\u001b[0m\u001b[0;34m\u001b[0m\u001b[0;34m\u001b[0m\u001b[0m\n\u001b[0m\u001b[1;32m    763\u001b[0m     \u001b[0;32mif\u001b[0m \u001b[0my_numeric\u001b[0m \u001b[0;32mand\u001b[0m \u001b[0my\u001b[0m\u001b[0;34m.\u001b[0m\u001b[0mdtype\u001b[0m\u001b[0;34m.\u001b[0m\u001b[0mkind\u001b[0m \u001b[0;34m==\u001b[0m \u001b[0;34m'O'\u001b[0m\u001b[0;34m:\u001b[0m\u001b[0;34m\u001b[0m\u001b[0;34m\u001b[0m\u001b[0m\n\u001b[1;32m    764\u001b[0m         \u001b[0my\u001b[0m \u001b[0;34m=\u001b[0m \u001b[0my\u001b[0m\u001b[0;34m.\u001b[0m\u001b[0mastype\u001b[0m\u001b[0;34m(\u001b[0m\u001b[0mnp\u001b[0m\u001b[0;34m.\u001b[0m\u001b[0mfloat64\u001b[0m\u001b[0;34m)\u001b[0m\u001b[0;34m\u001b[0m\u001b[0;34m\u001b[0m\u001b[0m\n",
      "\u001b[0;32m~/anaconda3/lib/python3.7/site-packages/sklearn/utils/validation.py\u001b[0m in \u001b[0;36m_assert_all_finite\u001b[0;34m(X, allow_nan)\u001b[0m\n\u001b[1;32m     54\u001b[0m                 not allow_nan and not np.isfinite(X).all()):\n\u001b[1;32m     55\u001b[0m             \u001b[0mtype_err\u001b[0m \u001b[0;34m=\u001b[0m \u001b[0;34m'infinity'\u001b[0m \u001b[0;32mif\u001b[0m \u001b[0mallow_nan\u001b[0m \u001b[0;32melse\u001b[0m \u001b[0;34m'NaN, infinity'\u001b[0m\u001b[0;34m\u001b[0m\u001b[0;34m\u001b[0m\u001b[0m\n\u001b[0;32m---> 56\u001b[0;31m             \u001b[0;32mraise\u001b[0m \u001b[0mValueError\u001b[0m\u001b[0;34m(\u001b[0m\u001b[0mmsg_err\u001b[0m\u001b[0;34m.\u001b[0m\u001b[0mformat\u001b[0m\u001b[0;34m(\u001b[0m\u001b[0mtype_err\u001b[0m\u001b[0;34m,\u001b[0m \u001b[0mX\u001b[0m\u001b[0;34m.\u001b[0m\u001b[0mdtype\u001b[0m\u001b[0;34m)\u001b[0m\u001b[0;34m)\u001b[0m\u001b[0;34m\u001b[0m\u001b[0;34m\u001b[0m\u001b[0m\n\u001b[0m\u001b[1;32m     57\u001b[0m \u001b[0;34m\u001b[0m\u001b[0m\n\u001b[1;32m     58\u001b[0m \u001b[0;34m\u001b[0m\u001b[0m\n",
      "\u001b[0;31mValueError\u001b[0m: Input contains NaN, infinity or a value too large for dtype('float64')."
     ]
    }
   ],
   "source": [
    "clf.fit(train,labels)"
   ]
  },
  {
   "cell_type": "code",
   "execution_count": 17,
   "metadata": {
    "_cell_guid": "7fb5cdd6-14dc-da14-e898-b982c93ec055"
   },
   "outputs": [],
   "source": [
    "test_labels = clf.predict(test)"
   ]
  },
  {
   "cell_type": "code",
   "execution_count": 18,
   "metadata": {
    "_cell_guid": "8a0ae3ae-e9d0-878c-0e68-cbe9bfadd2f6"
   },
   "outputs": [
    {
     "data": {
      "text/plain": [
       "(1459,)"
      ]
     },
     "execution_count": 18,
     "metadata": {},
     "output_type": "execute_result"
    }
   ],
   "source": [
    "test_labels.shape"
   ]
  },
  {
   "cell_type": "code",
   "execution_count": 19,
   "metadata": {
    "_cell_guid": "c53070da-dcff-7fec-3c85-a9803fd4a442"
   },
   "outputs": [
    {
     "name": "stdout",
     "output_type": "stream",
     "text": [
      "[ 11.81624666  12.23470153  12.14372613 ...,  12.08087383  11.60034954\n",
      "  12.44674734]\n"
     ]
    }
   ],
   "source": [
    "print(test_labels)"
   ]
  },
  {
   "cell_type": "code",
   "execution_count": 20,
   "metadata": {
    "_cell_guid": "7c0e79ae-6c3d-6f0f-6ffa-205f5ce1ba87"
   },
   "outputs": [],
   "source": [
    "price_label = np.exp(test_labels)\n",
    "price_labels = price_label.reshape(-1,)"
   ]
  },
  {
   "cell_type": "code",
   "execution_count": 21,
   "metadata": {
    "_cell_guid": "51c23198-9d30-ba02-d71d-90ddaa080d71"
   },
   "outputs": [
    {
     "name": "stdout",
     "output_type": "stream",
     "text": [
      "[ 135434.9400385   205808.52634403  187911.45262461 ...,  176464.29286235\n",
      "  109135.94024166  254421.42909117]\n"
     ]
    }
   ],
   "source": [
    "print(price_labels)"
   ]
  },
  {
   "cell_type": "code",
   "execution_count": 22,
   "metadata": {
    "_cell_guid": "d58b827b-cd9a-a986-1748-8dc264eb3357"
   },
   "outputs": [],
   "source": [
    "sub = pd.DataFrame({\n",
    "        \"SalePrice\": price_labels\n",
    "    })"
   ]
  },
  {
   "cell_type": "code",
   "execution_count": 23,
   "metadata": {
    "_cell_guid": "989b0999-9f0c-cd36-73e9-9febea2c7a62"
   },
   "outputs": [
    {
     "data": {
      "text/html": [
       "<div>\n",
       "<table border=\"1\" class=\"dataframe\">\n",
       "  <thead>\n",
       "    <tr style=\"text-align: right;\">\n",
       "      <th></th>\n",
       "      <th>SalePrice</th>\n",
       "    </tr>\n",
       "  </thead>\n",
       "  <tbody>\n",
       "    <tr>\n",
       "      <th>0</th>\n",
       "      <td>135434.940039</td>\n",
       "    </tr>\n",
       "    <tr>\n",
       "      <th>1</th>\n",
       "      <td>205808.526344</td>\n",
       "    </tr>\n",
       "    <tr>\n",
       "      <th>2</th>\n",
       "      <td>187911.452625</td>\n",
       "    </tr>\n",
       "    <tr>\n",
       "      <th>3</th>\n",
       "      <td>202696.372009</td>\n",
       "    </tr>\n",
       "    <tr>\n",
       "      <th>4</th>\n",
       "      <td>179084.218149</td>\n",
       "    </tr>\n",
       "  </tbody>\n",
       "</table>\n",
       "</div>"
      ],
      "text/plain": [
       "       SalePrice\n",
       "0  135434.940039\n",
       "1  205808.526344\n",
       "2  187911.452625\n",
       "3  202696.372009\n",
       "4  179084.218149"
      ]
     },
     "execution_count": 23,
     "metadata": {},
     "output_type": "execute_result"
    }
   ],
   "source": [
    "sub.head()"
   ]
  },
  {
   "cell_type": "code",
   "execution_count": 24,
   "metadata": {
    "_cell_guid": "b45dde33-935e-9600-8233-713ecaec2937"
   },
   "outputs": [],
   "source": [
    "test_data = pd.read_csv('../input/test.csv')"
   ]
  },
  {
   "cell_type": "code",
   "execution_count": 25,
   "metadata": {
    "_cell_guid": "6a12f1d6-f41f-d7d8-fd7c-bd7db5e7eae2"
   },
   "outputs": [],
   "source": [
    "result =  test_data.append(sub)"
   ]
  },
  {
   "cell_type": "code",
   "execution_count": 26,
   "metadata": {
    "_cell_guid": "31d00f49-c92e-6d16-5e70-be8761d2168e"
   },
   "outputs": [],
   "source": [
    "result['SalePrice'] = sub['SalePrice']"
   ]
  },
  {
   "cell_type": "code",
   "execution_count": 27,
   "metadata": {
    "_cell_guid": "054fcfa7-bf74-d5ea-61e9-969d1b91e406"
   },
   "outputs": [
    {
     "data": {
      "text/plain": [
       "0    135434.940039\n",
       "1    205808.526344\n",
       "2    187911.452625\n",
       "3    202696.372009\n",
       "4    179084.218149\n",
       "Name: SalePrice, dtype: float64"
      ]
     },
     "execution_count": 27,
     "metadata": {},
     "output_type": "execute_result"
    }
   ],
   "source": [
    "result['SalePrice'].head()"
   ]
  },
  {
   "cell_type": "code",
   "execution_count": 28,
   "metadata": {
    "_cell_guid": "a0307af4-4ddf-a758-6ebf-f3d703a2ff1f"
   },
   "outputs": [],
   "source": [
    "result.to_csv(\"sample_submission.csv\", index=False)"
   ]
  },
  {
   "cell_type": "code",
   "execution_count": 32,
   "metadata": {},
   "outputs": [],
   "source": [
    "import xgboost as xgb"
   ]
  },
  {
   "cell_type": "code",
   "execution_count": null,
   "metadata": {},
   "outputs": [],
   "source": []
  }
 ],
 "metadata": {
  "_change_revision": 144,
  "_is_fork": false,
  "kernelspec": {
   "display_name": "Python 3 (ipykernel)",
   "language": "python",
   "name": "python3"
  },
  "language_info": {
   "codemirror_mode": {
    "name": "ipython",
    "version": 3
   },
   "file_extension": ".py",
   "mimetype": "text/x-python",
   "name": "python",
   "nbconvert_exporter": "python",
   "pygments_lexer": "ipython3",
   "version": "3.7.13"
  }
 },
 "nbformat": 4,
 "nbformat_minor": 1
}
