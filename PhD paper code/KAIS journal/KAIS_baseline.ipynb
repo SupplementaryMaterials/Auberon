{
 "cells": [
  {
   "cell_type": "markdown",
   "metadata": {
    "_uuid": "94177c912bfd2af53e012e8ae9f96a12fc913ecb"
   },
   "source": [
    "# **TimeCitedFiveYearCNT prediction :**"
   ]
  },
  {
   "cell_type": "markdown",
   "metadata": {
    "_uuid": "ec73b4dbe75af2ecb023273f03dc0fe893b02b2f"
   },
   "source": [
    "Some basic setup :"
   ]
  },
  {
   "cell_type": "code",
   "execution_count": 43,
   "metadata": {
    "ExecuteTime": {
     "end_time": "2020-09-08T07:39:52.777537Z",
     "start_time": "2020-09-08T07:39:52.772744Z"
    },
    "_cell_guid": "b1076dfc-b9ad-4769-8c92-a6c4dae69d19",
    "_uuid": "8f2839f25d086af736a60e9eeb907d3b93b6e0e5"
   },
   "outputs": [],
   "source": [
    "import numpy as np # linear algebra\n",
    "import pandas as pd # data processing, CSV file I/O (e.g. pd.read_csv)\n",
    "import seaborn as sns\n",
    "import matplotlib.pyplot as plt\n",
    "\n",
    "\n",
    "# importing alll the necessary packages to use the various classification algorithms\n",
    "from sklearn.model_selection import train_test_split #to split the dataset for training and testing\n",
    "from sklearn.metrics import mean_squared_error #for checking the model accuracy\n",
    "from sklearn.model_selection import KFold, cross_val_score, train_test_split\n",
    "from sklearn.metrics import mean_squared_error\n",
    "import lightgbm as lgb\n"
   ]
  },
  {
   "cell_type": "markdown",
   "metadata": {
    "_uuid": "8ef90007f621a94212050c95fbbff4a52db6d443"
   },
   "source": [
    "Input data :"
   ]
  },
  {
   "cell_type": "code",
   "execution_count": 441,
   "metadata": {
    "ExecuteTime": {
     "end_time": "2020-09-10T04:10:13.437883Z",
     "start_time": "2020-09-10T04:10:13.363614Z"
    }
   },
   "outputs": [],
   "source": [
    "train_data = pd.read_csv('./5basic_1distance_4681company/data/train_data_distance2_with_CVAE.csv')\n",
    "test_data = pd.read_csv('./5basic_1distance_4681company/data/test_data_distance2_with_CVAE.csv')"
   ]
  },
  {
   "cell_type": "code",
   "execution_count": 442,
   "metadata": {
    "ExecuteTime": {
     "end_time": "2020-09-10T04:10:15.399680Z",
     "start_time": "2020-09-10T04:10:15.393481Z"
    }
   },
   "outputs": [
    {
     "data": {
      "text/plain": [
       "Index(['PatentNumber', 'TimeCitedFiveYearCNT', 'ForeignRefCNT', 'ReferenceCNT',\n",
       "       'NPRCNT', 'ClaimCNT', 'CPCCNT', 'InvCtry_Generality_5Y', 'embedd_CVAE'],\n",
       "      dtype='object')"
      ]
     },
     "execution_count": 442,
     "metadata": {},
     "output_type": "execute_result"
    }
   ],
   "source": [
    "train_data.columns"
   ]
  },
  {
   "cell_type": "code",
   "execution_count": 443,
   "metadata": {
    "ExecuteTime": {
     "end_time": "2020-09-10T04:10:15.599451Z",
     "start_time": "2020-09-10T04:10:15.583013Z"
    },
    "_cell_guid": "79c7e3d0-c299-4dcb-8224-4455121ee9b0",
    "_uuid": "d629ff2d2480ee46fbb7e2d37f6b5fab8052498a",
    "scrolled": false
   },
   "outputs": [
    {
     "data": {
      "text/html": [
       "<div>\n",
       "<style scoped>\n",
       "    .dataframe tbody tr th:only-of-type {\n",
       "        vertical-align: middle;\n",
       "    }\n",
       "\n",
       "    .dataframe tbody tr th {\n",
       "        vertical-align: top;\n",
       "    }\n",
       "\n",
       "    .dataframe thead th {\n",
       "        text-align: right;\n",
       "    }\n",
       "</style>\n",
       "<table border=\"1\" class=\"dataframe\">\n",
       "  <thead>\n",
       "    <tr style=\"text-align: right;\">\n",
       "      <th></th>\n",
       "      <th>PatentNumber</th>\n",
       "      <th>TimeCitedFiveYearCNT</th>\n",
       "      <th>ForeignRefCNT</th>\n",
       "      <th>ReferenceCNT</th>\n",
       "      <th>NPRCNT</th>\n",
       "      <th>ClaimCNT</th>\n",
       "      <th>CPCCNT</th>\n",
       "      <th>InvCtry_Generality_5Y</th>\n",
       "      <th>embedd_CVAE</th>\n",
       "    </tr>\n",
       "  </thead>\n",
       "  <tbody>\n",
       "    <tr>\n",
       "      <th>0</th>\n",
       "      <td>6020086</td>\n",
       "      <td>3.0</td>\n",
       "      <td>3.0</td>\n",
       "      <td>9.0</td>\n",
       "      <td>0.0</td>\n",
       "      <td>10</td>\n",
       "      <td>5.0</td>\n",
       "      <td>0.375000</td>\n",
       "      <td>0.054269</td>\n",
       "    </tr>\n",
       "    <tr>\n",
       "      <th>1</th>\n",
       "      <td>6020136</td>\n",
       "      <td>0.0</td>\n",
       "      <td>0.0</td>\n",
       "      <td>0.0</td>\n",
       "      <td>17.0</td>\n",
       "      <td>1</td>\n",
       "      <td>3.0</td>\n",
       "      <td>0.000000</td>\n",
       "      <td>0.045799</td>\n",
       "    </tr>\n",
       "    <tr>\n",
       "      <th>2</th>\n",
       "      <td>6020250</td>\n",
       "      <td>8.0</td>\n",
       "      <td>0.0</td>\n",
       "      <td>4.0</td>\n",
       "      <td>0.0</td>\n",
       "      <td>3</td>\n",
       "      <td>9.0</td>\n",
       "      <td>0.518519</td>\n",
       "      <td>0.082125</td>\n",
       "    </tr>\n",
       "    <tr>\n",
       "      <th>3</th>\n",
       "      <td>6012550</td>\n",
       "      <td>2.0</td>\n",
       "      <td>0.0</td>\n",
       "      <td>9.0</td>\n",
       "      <td>0.0</td>\n",
       "      <td>6</td>\n",
       "      <td>3.0</td>\n",
       "      <td>0.000000</td>\n",
       "      <td>0.032267</td>\n",
       "    </tr>\n",
       "    <tr>\n",
       "      <th>4</th>\n",
       "      <td>6010537</td>\n",
       "      <td>7.0</td>\n",
       "      <td>4.0</td>\n",
       "      <td>2.0</td>\n",
       "      <td>0.0</td>\n",
       "      <td>22</td>\n",
       "      <td>2.0</td>\n",
       "      <td>0.000000</td>\n",
       "      <td>0.034544</td>\n",
       "    </tr>\n",
       "  </tbody>\n",
       "</table>\n",
       "</div>"
      ],
      "text/plain": [
       "   PatentNumber  TimeCitedFiveYearCNT  ForeignRefCNT  ReferenceCNT  NPRCNT  \\\n",
       "0       6020086                   3.0            3.0           9.0     0.0   \n",
       "1       6020136                   0.0            0.0           0.0    17.0   \n",
       "2       6020250                   8.0            0.0           4.0     0.0   \n",
       "3       6012550                   2.0            0.0           9.0     0.0   \n",
       "4       6010537                   7.0            4.0           2.0     0.0   \n",
       "\n",
       "   ClaimCNT  CPCCNT  InvCtry_Generality_5Y  embedd_CVAE  \n",
       "0        10     5.0               0.375000     0.054269  \n",
       "1         1     3.0               0.000000     0.045799  \n",
       "2         3     9.0               0.518519     0.082125  \n",
       "3         6     3.0               0.000000     0.032267  \n",
       "4        22     2.0               0.000000     0.034544  "
      ]
     },
     "execution_count": 443,
     "metadata": {},
     "output_type": "execute_result"
    }
   ],
   "source": [
    "train_data.head(5)"
   ]
  },
  {
   "cell_type": "markdown",
   "metadata": {},
   "source": [
    "TimeCitedFiveYearCNT："
   ]
  },
  {
   "cell_type": "code",
   "execution_count": 444,
   "metadata": {
    "ExecuteTime": {
     "end_time": "2020-09-10T04:10:16.906825Z",
     "start_time": "2020-09-10T04:10:15.879109Z"
    },
    "_kg_hide-input": true,
    "_kg_hide-output": true,
    "_uuid": "5599fcf5244990a2640afc82004ea9aeec64ffb5",
    "scrolled": true
   },
   "outputs": [
    {
     "data": {
      "image/png": "[encoded data removed]",
      "text/plain": [
       "<Figure size 432x288 with 1 Axes>"
      ]
     },
     "metadata": {
      "needs_background": "light"
     },
     "output_type": "display_data"
    }
   ],
   "source": [
    "sns.distplot(train_data['TimeCitedFiveYearCNT']);"
   ]
  },
  {
   "cell_type": "markdown",
   "metadata": {
    "_uuid": "2959e68f06d8d85b5deadab915574c99a157575e"
   },
   "source": [
    "Apply **Log transfomation** to TimeCitedFiveYearCNT:"
   ]
  },
  {
   "cell_type": "code",
   "execution_count": 445,
   "metadata": {
    "ExecuteTime": {
     "end_time": "2020-09-10T04:10:17.254901Z",
     "start_time": "2020-09-10T04:10:16.908216Z"
    },
    "_uuid": "5f2ff2fdf3e2b2dd71cdf735576323dbaea4a689"
   },
   "outputs": [
    {
     "data": {
      "image/png": "[encoded data removed]",
      "text/plain": [
       "<Figure size 432x288 with 1 Axes>"
      ]
     },
     "metadata": {
      "needs_background": "light"
     },
     "output_type": "display_data"
    }
   ],
   "source": [
    "train_data['TimeCitedFiveYearCNT'] = np.log1p(train_data['TimeCitedFiveYearCNT'])\n",
    "sns.distplot(train_data['TimeCitedFiveYearCNT']);"
   ]
  },
  {
   "cell_type": "markdown",
   "metadata": {
    "_uuid": "ab109f1d2a7f847a280d201b30d5ecdc79c1e189"
   },
   "source": [
    "Now let's concat train data and test data, and save a copy of TimeCitedFiveYearCNT and PatentNumber :"
   ]
  },
  {
   "cell_type": "code",
   "execution_count": 446,
   "metadata": {
    "ExecuteTime": {
     "end_time": "2020-09-10T04:10:17.281163Z",
     "start_time": "2020-09-10T04:10:17.256813Z"
    },
    "_uuid": "a7f052e8e5a5ac7f88be0f3e2243532126774202",
    "scrolled": true
   },
   "outputs": [
    {
     "name": "stdout",
     "output_type": "stream",
     "text": [
      "all_data size is : (89153, 8)\n"
     ]
    },
    {
     "data": {
      "text/html": [
       "<div>\n",
       "<style scoped>\n",
       "    .dataframe tbody tr th:only-of-type {\n",
       "        vertical-align: middle;\n",
       "    }\n",
       "\n",
       "    .dataframe tbody tr th {\n",
       "        vertical-align: top;\n",
       "    }\n",
       "\n",
       "    .dataframe thead th {\n",
       "        text-align: right;\n",
       "    }\n",
       "</style>\n",
       "<table border=\"1\" class=\"dataframe\">\n",
       "  <thead>\n",
       "    <tr style=\"text-align: right;\">\n",
       "      <th></th>\n",
       "      <th>PatentNumber</th>\n",
       "      <th>ForeignRefCNT</th>\n",
       "      <th>ReferenceCNT</th>\n",
       "      <th>NPRCNT</th>\n",
       "      <th>ClaimCNT</th>\n",
       "      <th>CPCCNT</th>\n",
       "      <th>InvCtry_Generality_5Y</th>\n",
       "      <th>embedd_CVAE</th>\n",
       "    </tr>\n",
       "  </thead>\n",
       "  <tbody>\n",
       "    <tr>\n",
       "      <th>0</th>\n",
       "      <td>6020086</td>\n",
       "      <td>3.0</td>\n",
       "      <td>9.0</td>\n",
       "      <td>0.0</td>\n",
       "      <td>10</td>\n",
       "      <td>5.0</td>\n",
       "      <td>0.375000</td>\n",
       "      <td>0.054269</td>\n",
       "    </tr>\n",
       "    <tr>\n",
       "      <th>1</th>\n",
       "      <td>6020136</td>\n",
       "      <td>0.0</td>\n",
       "      <td>0.0</td>\n",
       "      <td>17.0</td>\n",
       "      <td>1</td>\n",
       "      <td>3.0</td>\n",
       "      <td>0.000000</td>\n",
       "      <td>0.045799</td>\n",
       "    </tr>\n",
       "    <tr>\n",
       "      <th>2</th>\n",
       "      <td>6020250</td>\n",
       "      <td>0.0</td>\n",
       "      <td>4.0</td>\n",
       "      <td>0.0</td>\n",
       "      <td>3</td>\n",
       "      <td>9.0</td>\n",
       "      <td>0.518519</td>\n",
       "      <td>0.082125</td>\n",
       "    </tr>\n",
       "    <tr>\n",
       "      <th>3</th>\n",
       "      <td>6012550</td>\n",
       "      <td>0.0</td>\n",
       "      <td>9.0</td>\n",
       "      <td>0.0</td>\n",
       "      <td>6</td>\n",
       "      <td>3.0</td>\n",
       "      <td>0.000000</td>\n",
       "      <td>0.032267</td>\n",
       "    </tr>\n",
       "    <tr>\n",
       "      <th>4</th>\n",
       "      <td>6010537</td>\n",
       "      <td>4.0</td>\n",
       "      <td>2.0</td>\n",
       "      <td>0.0</td>\n",
       "      <td>22</td>\n",
       "      <td>2.0</td>\n",
       "      <td>0.000000</td>\n",
       "      <td>0.034544</td>\n",
       "    </tr>\n",
       "  </tbody>\n",
       "</table>\n",
       "</div>"
      ],
      "text/plain": [
       "   PatentNumber  ForeignRefCNT  ReferenceCNT  NPRCNT  ClaimCNT  CPCCNT  \\\n",
       "0       6020086            3.0           9.0     0.0        10     5.0   \n",
       "1       6020136            0.0           0.0    17.0         1     3.0   \n",
       "2       6020250            0.0           4.0     0.0         3     9.0   \n",
       "3       6012550            0.0           9.0     0.0         6     3.0   \n",
       "4       6010537            4.0           2.0     0.0        22     2.0   \n",
       "\n",
       "   InvCtry_Generality_5Y  embedd_CVAE  \n",
       "0               0.375000     0.054269  \n",
       "1               0.000000     0.045799  \n",
       "2               0.518519     0.082125  \n",
       "3               0.000000     0.032267  \n",
       "4               0.000000     0.034544  "
      ]
     },
     "execution_count": 446,
     "metadata": {},
     "output_type": "execute_result"
    }
   ],
   "source": [
    "# data preprocessing\n",
    "PatentNumber = test_data['PatentNumber']\n",
    "train_y = train_data.TimeCitedFiveYearCNT.values\n",
    "#print(train_y)\n",
    "all_data = pd.concat((train_data, test_data), sort=False).reset_index(drop=True)\n",
    "all_data.drop(['TimeCitedFiveYearCNT'], axis=1, inplace=True)\n",
    "print(\"all_data size is : {}\".format(all_data.shape))\n",
    "all_data.head(5)"
   ]
  },
  {
   "cell_type": "markdown",
   "metadata": {
    "_uuid": "2539c366f9447051ba84b0f772cf91cf30e2dd83"
   },
   "source": [
    "**Handling missing value :**"
   ]
  },
  {
   "cell_type": "markdown",
   "metadata": {
    "_uuid": "a376cc95d683de343c5a4c3345918397fd1cb1c3"
   },
   "source": [
    "1. drop columns that missing percent is too high or unnecessary :"
   ]
  },
  {
   "cell_type": "code",
   "execution_count": 447,
   "metadata": {
    "ExecuteTime": {
     "end_time": "2020-09-10T04:10:17.341631Z",
     "start_time": "2020-09-10T04:10:17.316414Z"
    },
    "_uuid": "9ceb49acca03d96433b87e0e0be49942d1da1ba8",
    "scrolled": true
   },
   "outputs": [
    {
     "data": {
      "text/html": [
       "<div>\n",
       "<style scoped>\n",
       "    .dataframe tbody tr th:only-of-type {\n",
       "        vertical-align: middle;\n",
       "    }\n",
       "\n",
       "    .dataframe tbody tr th {\n",
       "        vertical-align: top;\n",
       "    }\n",
       "\n",
       "    .dataframe thead th {\n",
       "        text-align: right;\n",
       "    }\n",
       "</style>\n",
       "<table border=\"1\" class=\"dataframe\">\n",
       "  <thead>\n",
       "    <tr style=\"text-align: right;\">\n",
       "      <th></th>\n",
       "      <th>ForeignRefCNT</th>\n",
       "      <th>ReferenceCNT</th>\n",
       "      <th>NPRCNT</th>\n",
       "      <th>ClaimCNT</th>\n",
       "      <th>CPCCNT</th>\n",
       "      <th>InvCtry_Generality_5Y</th>\n",
       "      <th>embedd_CVAE</th>\n",
       "    </tr>\n",
       "  </thead>\n",
       "  <tbody>\n",
       "    <tr>\n",
       "      <th>0</th>\n",
       "      <td>3.0</td>\n",
       "      <td>9.0</td>\n",
       "      <td>0.0</td>\n",
       "      <td>10</td>\n",
       "      <td>5.0</td>\n",
       "      <td>0.375000</td>\n",
       "      <td>0.054269</td>\n",
       "    </tr>\n",
       "    <tr>\n",
       "      <th>1</th>\n",
       "      <td>0.0</td>\n",
       "      <td>0.0</td>\n",
       "      <td>17.0</td>\n",
       "      <td>1</td>\n",
       "      <td>3.0</td>\n",
       "      <td>0.000000</td>\n",
       "      <td>0.045799</td>\n",
       "    </tr>\n",
       "    <tr>\n",
       "      <th>2</th>\n",
       "      <td>0.0</td>\n",
       "      <td>4.0</td>\n",
       "      <td>0.0</td>\n",
       "      <td>3</td>\n",
       "      <td>9.0</td>\n",
       "      <td>0.518519</td>\n",
       "      <td>0.082125</td>\n",
       "    </tr>\n",
       "    <tr>\n",
       "      <th>3</th>\n",
       "      <td>0.0</td>\n",
       "      <td>9.0</td>\n",
       "      <td>0.0</td>\n",
       "      <td>6</td>\n",
       "      <td>3.0</td>\n",
       "      <td>0.000000</td>\n",
       "      <td>0.032267</td>\n",
       "    </tr>\n",
       "    <tr>\n",
       "      <th>4</th>\n",
       "      <td>4.0</td>\n",
       "      <td>2.0</td>\n",
       "      <td>0.0</td>\n",
       "      <td>22</td>\n",
       "      <td>2.0</td>\n",
       "      <td>0.000000</td>\n",
       "      <td>0.034544</td>\n",
       "    </tr>\n",
       "  </tbody>\n",
       "</table>\n",
       "</div>"
      ],
      "text/plain": [
       "   ForeignRefCNT  ReferenceCNT  NPRCNT  ClaimCNT  CPCCNT  \\\n",
       "0            3.0           9.0     0.0        10     5.0   \n",
       "1            0.0           0.0    17.0         1     3.0   \n",
       "2            0.0           4.0     0.0         3     9.0   \n",
       "3            0.0           9.0     0.0         6     3.0   \n",
       "4            4.0           2.0     0.0        22     2.0   \n",
       "\n",
       "   InvCtry_Generality_5Y  embedd_CVAE  \n",
       "0               0.375000     0.054269  \n",
       "1               0.000000     0.045799  \n",
       "2               0.518519     0.082125  \n",
       "3               0.000000     0.032267  \n",
       "4               0.000000     0.034544  "
      ]
     },
     "execution_count": 447,
     "metadata": {},
     "output_type": "execute_result"
    }
   ],
   "source": [
    "# drop PatentNumber\n",
    "all_data = all_data.drop('PatentNumber', axis=1)\n",
    "\n",
    "# drop NAN that missing ratio is above a certain threshold\n",
    "missing_data = all_data.isnull().sum()\n",
    "missing_data = missing_data.drop(missing_data[missing_data == 0].index)\n",
    "missing_ratio = missing_data / len(all_data) * 100\n",
    "# print(missing_ratio)\n",
    "all_data = all_data.drop(missing_ratio[missing_ratio.values > 20].index, axis=1)\n",
    "# all_data = all_data.drop(missing_data[missing_data.iloc[:] > 0].index, axis=1)\n",
    "all_data.head(5)"
   ]
  },
  {
   "cell_type": "markdown",
   "metadata": {
    "_uuid": "9f5082f3e7fb7ab020c67f9f542796c32ada70d5"
   },
   "source": [
    "2. deal with the rest of the missing value :"
   ]
  },
  {
   "cell_type": "code",
   "execution_count": 448,
   "metadata": {
    "ExecuteTime": {
     "end_time": "2020-09-10T04:10:19.329693Z",
     "start_time": "2020-09-10T04:10:19.314340Z"
    },
    "_uuid": "b9ebe2704cdb488ff2c65a734dcc2834b99215f4",
    "scrolled": false
   },
   "outputs": [
    {
     "name": "stdout",
     "output_type": "stream",
     "text": [
      "Series([], dtype: float64)\n"
     ]
    },
    {
     "data": {
      "text/html": [
       "<div>\n",
       "<style scoped>\n",
       "    .dataframe tbody tr th:only-of-type {\n",
       "        vertical-align: middle;\n",
       "    }\n",
       "\n",
       "    .dataframe tbody tr th {\n",
       "        vertical-align: top;\n",
       "    }\n",
       "\n",
       "    .dataframe thead th {\n",
       "        text-align: right;\n",
       "    }\n",
       "</style>\n",
       "<table border=\"1\" class=\"dataframe\">\n",
       "  <thead>\n",
       "    <tr style=\"text-align: right;\">\n",
       "      <th></th>\n",
       "    </tr>\n",
       "  </thead>\n",
       "  <tbody>\n",
       "    <tr>\n",
       "      <th>0</th>\n",
       "    </tr>\n",
       "    <tr>\n",
       "      <th>1</th>\n",
       "    </tr>\n",
       "    <tr>\n",
       "      <th>2</th>\n",
       "    </tr>\n",
       "    <tr>\n",
       "      <th>3</th>\n",
       "    </tr>\n",
       "    <tr>\n",
       "      <th>4</th>\n",
       "    </tr>\n",
       "  </tbody>\n",
       "</table>\n",
       "</div>"
      ],
      "text/plain": [
       "Empty DataFrame\n",
       "Columns: []\n",
       "Index: [0, 1, 2, 3, 4]"
      ]
     },
     "execution_count": 448,
     "metadata": {},
     "output_type": "execute_result"
    }
   ],
   "source": [
    "missing_data = all_data.isnull().sum()\n",
    "missing_data = missing_data.drop(missing_data[missing_data == 0].index)\n",
    "missing_ratio = missing_data / len(all_data) * 100\n",
    "print(missing_ratio)\n",
    "all_data[missing_ratio.index].head(5)"
   ]
  },
  {
   "cell_type": "code",
   "execution_count": 449,
   "metadata": {
    "ExecuteTime": {
     "end_time": "2020-09-10T04:10:19.703112Z",
     "start_time": "2020-09-10T04:10:19.679975Z"
    },
    "_uuid": "4824defb68329007a92200d4c550a7f04a28bc22"
   },
   "outputs": [
    {
     "data": {
      "text/html": [
       "<div>\n",
       "<style scoped>\n",
       "    .dataframe tbody tr th:only-of-type {\n",
       "        vertical-align: middle;\n",
       "    }\n",
       "\n",
       "    .dataframe tbody tr th {\n",
       "        vertical-align: top;\n",
       "    }\n",
       "\n",
       "    .dataframe thead th {\n",
       "        text-align: right;\n",
       "    }\n",
       "</style>\n",
       "<table border=\"1\" class=\"dataframe\">\n",
       "  <thead>\n",
       "    <tr style=\"text-align: right;\">\n",
       "      <th></th>\n",
       "      <th>ForeignRefCNT</th>\n",
       "      <th>ReferenceCNT</th>\n",
       "      <th>NPRCNT</th>\n",
       "      <th>ClaimCNT</th>\n",
       "      <th>CPCCNT</th>\n",
       "      <th>InvCtry_Generality_5Y</th>\n",
       "      <th>embedd_CVAE</th>\n",
       "    </tr>\n",
       "  </thead>\n",
       "  <tbody>\n",
       "    <tr>\n",
       "      <th>0</th>\n",
       "      <td>3.0</td>\n",
       "      <td>9.0</td>\n",
       "      <td>0.0</td>\n",
       "      <td>10</td>\n",
       "      <td>5.0</td>\n",
       "      <td>0.375000</td>\n",
       "      <td>0.054269</td>\n",
       "    </tr>\n",
       "    <tr>\n",
       "      <th>1</th>\n",
       "      <td>0.0</td>\n",
       "      <td>0.0</td>\n",
       "      <td>17.0</td>\n",
       "      <td>1</td>\n",
       "      <td>3.0</td>\n",
       "      <td>0.000000</td>\n",
       "      <td>0.045799</td>\n",
       "    </tr>\n",
       "    <tr>\n",
       "      <th>2</th>\n",
       "      <td>0.0</td>\n",
       "      <td>4.0</td>\n",
       "      <td>0.0</td>\n",
       "      <td>3</td>\n",
       "      <td>9.0</td>\n",
       "      <td>0.518519</td>\n",
       "      <td>0.082125</td>\n",
       "    </tr>\n",
       "    <tr>\n",
       "      <th>3</th>\n",
       "      <td>0.0</td>\n",
       "      <td>9.0</td>\n",
       "      <td>0.0</td>\n",
       "      <td>6</td>\n",
       "      <td>3.0</td>\n",
       "      <td>0.000000</td>\n",
       "      <td>0.032267</td>\n",
       "    </tr>\n",
       "    <tr>\n",
       "      <th>4</th>\n",
       "      <td>4.0</td>\n",
       "      <td>2.0</td>\n",
       "      <td>0.0</td>\n",
       "      <td>22</td>\n",
       "      <td>2.0</td>\n",
       "      <td>0.000000</td>\n",
       "      <td>0.034544</td>\n",
       "    </tr>\n",
       "  </tbody>\n",
       "</table>\n",
       "</div>"
      ],
      "text/plain": [
       "   ForeignRefCNT  ReferenceCNT  NPRCNT  ClaimCNT  CPCCNT  \\\n",
       "0            3.0           9.0     0.0        10     5.0   \n",
       "1            0.0           0.0    17.0         1     3.0   \n",
       "2            0.0           4.0     0.0         3     9.0   \n",
       "3            0.0           9.0     0.0         6     3.0   \n",
       "4            4.0           2.0     0.0        22     2.0   \n",
       "\n",
       "   InvCtry_Generality_5Y  embedd_CVAE  \n",
       "0               0.375000     0.054269  \n",
       "1               0.000000     0.045799  \n",
       "2               0.518519     0.082125  \n",
       "3               0.000000     0.032267  \n",
       "4               0.000000     0.034544  "
      ]
     },
     "execution_count": 449,
     "metadata": {},
     "output_type": "execute_result"
    }
   ],
   "source": [
    "all_data = pd.get_dummies(all_data)\n",
    "all_data.head(5)"
   ]
  },
  {
   "cell_type": "code",
   "execution_count": 450,
   "metadata": {
    "ExecuteTime": {
     "end_time": "2020-09-10T04:10:20.171686Z",
     "start_time": "2020-09-10T04:10:20.165653Z"
    }
   },
   "outputs": [
    {
     "data": {
      "text/plain": [
       "Index(['ForeignRefCNT', 'ReferenceCNT', 'NPRCNT', 'ClaimCNT', 'CPCCNT',\n",
       "       'InvCtry_Generality_5Y', 'embedd_CVAE'],\n",
       "      dtype='object')"
      ]
     },
     "execution_count": 450,
     "metadata": {},
     "output_type": "execute_result"
    }
   ],
   "source": [
    "all_data.columns"
   ]
  },
  {
   "cell_type": "markdown",
   "metadata": {
    "_uuid": "73e6a3f66853c959e78367a3b694d4fecd6e726d"
   },
   "source": [
    "**Split to train and test data :**"
   ]
  },
  {
   "cell_type": "code",
   "execution_count": 451,
   "metadata": {
    "ExecuteTime": {
     "end_time": "2020-09-10T04:10:21.279973Z",
     "start_time": "2020-09-10T04:10:21.267460Z"
    },
    "_uuid": "42d6405e84d69b28773d3366b502a440b18c925a"
   },
   "outputs": [
    {
     "name": "stdout",
     "output_type": "stream",
     "text": [
      "70000 70000\n"
     ]
    }
   ],
   "source": [
    "ntrain = train_data.shape[0]\n",
    "ntest = test_data.shape[0]\n",
    "# train, test = train_test_split(all_data, test_size=0.4998)\n",
    "train = all_data[:ntrain]\n",
    "test = all_data[ntrain:]\n",
    "train_x = train\n",
    "print(train_x.shape[0], train_y.shape[0])\n",
    "# train_y\n",
    "test_y = test_data.TimeCitedFiveYearCNT.values"
   ]
  },
  {
   "cell_type": "markdown",
   "metadata": {
    "_uuid": "ef100babf52d39e6db1e2ec7e239f0117acbab36"
   },
   "source": [
    "**Cross validation :**"
   ]
  },
  {
   "cell_type": "code",
   "execution_count": 452,
   "metadata": {
    "ExecuteTime": {
     "end_time": "2020-09-10T04:10:23.297269Z",
     "start_time": "2020-09-10T04:10:23.288741Z"
    },
    "_uuid": "510f8b1399aafb460d10f8efc3f4e38f967cab17"
   },
   "outputs": [],
   "source": [
    "#Validation function\n",
    "n_folds = 5\n",
    "\n",
    "def rmsle_cv(model):\n",
    "    kf = KFold(n_folds, shuffle=True, random_state=42).get_n_splits(train.values)\n",
    "    print('computing rmse....')\n",
    "    rmse= np.sqrt(-cross_val_score(model, train.values, train_y, scoring=\"neg_mean_squared_error\", cv = kf))\n",
    "    return(rmse)"
   ]
  },
  {
   "cell_type": "markdown",
   "metadata": {
    "_uuid": "e4dbb054ce33a6ae14e07a7b10fb33e865b900c8"
   },
   "source": [
    "## **<font color='green'>Select an algorithm :</font>**"
   ]
  },
  {
   "cell_type": "markdown",
   "metadata": {},
   "source": [
    "lightGBM:"
   ]
  },
  {
   "cell_type": "code",
   "execution_count": 408,
   "metadata": {
    "ExecuteTime": {
     "end_time": "2020-09-09T11:14:26.782188Z",
     "start_time": "2020-09-09T11:14:16.655474Z"
    },
    "_uuid": "0ae9a9c12dee156ca530f1e70625d577d8543ded",
    "scrolled": true
   },
   "outputs": [
    {
     "name": "stdout",
     "output_type": "stream",
     "text": [
      "computing rmse....\n",
      "LGBM score: 0.5742 (0.0067)\n",
      "\n"
     ]
    }
   ],
   "source": [
    "model = lgb.LGBMRegressor(objective='regression',num_leaves=5,\n",
    "                              learning_rate=0.05, n_estimators=720,\n",
    "                              max_bin = 55, bagging_fraction = 0.8,\n",
    "                              bagging_freq = 5, feature_fraction = 0.2319,\n",
    "                              feature_fraction_seed=9, bagging_seed=9,\n",
    "                              min_data_in_leaf =6, min_sum_hessian_in_leaf = 11)\n",
    "score = rmsle_cv(model)\n",
    "print(\"LGBM score: {:.4f} ({:.4f})\\n\" .format(score.mean(), score.std()))"
   ]
  },
  {
   "cell_type": "markdown",
   "metadata": {},
   "source": [
    "xgboost:"
   ]
  },
  {
   "cell_type": "code",
   "execution_count": 354,
   "metadata": {
    "ExecuteTime": {
     "end_time": "2020-09-09T06:37:22.534722Z",
     "start_time": "2020-09-09T06:37:12.433911Z"
    }
   },
   "outputs": [
    {
     "name": "stdout",
     "output_type": "stream",
     "text": [
      "computing rmse....\n",
      "XGBoost score: 0.5690 (0.0066)\n",
      "\n"
     ]
    }
   ],
   "source": [
    "import xgboost as xgb\n",
    "xgb_model = xgb.XGBRegressor(objective=\"reg:squarederror\", random_state=42)\n",
    "\n",
    "score = rmsle_cv(xgb_model)\n",
    "print(\"XGBoost score: {:.4f} ({:.4f})\\n\" .format(score.mean(), score.std()))"
   ]
  },
  {
   "cell_type": "markdown",
   "metadata": {},
   "source": [
    "linear regression:"
   ]
  },
  {
   "cell_type": "code",
   "execution_count": 356,
   "metadata": {
    "ExecuteTime": {
     "end_time": "2020-09-09T06:39:30.635519Z",
     "start_time": "2020-09-09T06:39:30.550552Z"
    }
   },
   "outputs": [
    {
     "name": "stdout",
     "output_type": "stream",
     "text": [
      "computing rmse....\n",
      "LinearRegression  score: 0.7365 (0.0076)\n",
      "\n"
     ]
    }
   ],
   "source": [
    "from sklearn.linear_model import LinearRegression\n",
    "lr_model = LinearRegression()\n",
    "\n",
    "score = rmsle_cv(lr_model)\n",
    "print(\"LinearRegression  score: {:.4f} ({:.4f})\\n\" .format(score.mean(), score.std()))"
   ]
  },
  {
   "cell_type": "markdown",
   "metadata": {},
   "source": [
    "Ridge:"
   ]
  },
  {
   "cell_type": "code",
   "execution_count": 357,
   "metadata": {
    "ExecuteTime": {
     "end_time": "2020-09-09T06:39:30.719990Z",
     "start_time": "2020-09-09T06:39:30.636876Z"
    }
   },
   "outputs": [
    {
     "name": "stdout",
     "output_type": "stream",
     "text": [
      "computing rmse....\n",
      "ridge  score: 0.7378 (0.0073)\n",
      "\n"
     ]
    }
   ],
   "source": [
    "from sklearn.linear_model import (Ridge)\n",
    "\n",
    "# Create a ridge regressor: ridge\n",
    "ridge = Ridge(normalize=True, alpha=0.1, fit_intercept=True, solver='sparse_cg') \n",
    "#paramters tuned using GridSearchCV\n",
    "\n",
    "score = rmsle_cv(ridge)\n",
    "print(\"ridge  score: {:.4f} ({:.4f})\\n\" .format(score.mean(), score.std()))"
   ]
  },
  {
   "cell_type": "markdown",
   "metadata": {},
   "source": [
    "decision tree:"
   ]
  },
  {
   "cell_type": "code",
   "execution_count": 359,
   "metadata": {
    "ExecuteTime": {
     "end_time": "2020-09-09T06:39:32.919938Z",
     "start_time": "2020-09-09T06:39:30.788588Z"
    }
   },
   "outputs": [
    {
     "name": "stdout",
     "output_type": "stream",
     "text": [
      "computing rmse....\n",
      "DecisionTreeRegressor  score: 0.7575 (0.0080)\n",
      "\n"
     ]
    }
   ],
   "source": [
    "from sklearn.tree import DecisionTreeRegressor\n",
    "dtr= DecisionTreeRegressor()\n",
    "\n",
    "score = rmsle_cv(dtr)\n",
    "print(\"DecisionTreeRegressor  score: {:.4f} ({:.4f})\\n\" .format(score.mean(), score.std()))"
   ]
  },
  {
   "cell_type": "markdown",
   "metadata": {},
   "source": [
    "GradientBoostingRegressor(GBR):"
   ]
  },
  {
   "cell_type": "code",
   "execution_count": 361,
   "metadata": {
    "ExecuteTime": {
     "end_time": "2020-09-09T06:40:08.159677Z",
     "start_time": "2020-09-09T06:39:32.996628Z"
    }
   },
   "outputs": [
    {
     "name": "stdout",
     "output_type": "stream",
     "text": [
      "computing rmse....\n",
      "GBR  score: 0.5694 (0.0061)\n",
      "\n"
     ]
    }
   ],
   "source": [
    "from sklearn.ensemble import GradientBoostingRegressor\n",
    "\n",
    "GBR = GradientBoostingRegressor()\n",
    "\n",
    "score = rmsle_cv(GBR)\n",
    "print(\"GBR  score: {:.4f} ({:.4f})\\n\" .format(score.mean(), score.std()))"
   ]
  },
  {
   "cell_type": "markdown",
   "metadata": {
    "_uuid": "5256db67c8002bda95f0e2187a786052403ea297"
   },
   "source": [
    "# **Mean square error validation :**"
   ]
  },
  {
   "cell_type": "code",
   "execution_count": 362,
   "metadata": {
    "ExecuteTime": {
     "end_time": "2020-09-09T06:40:08.164287Z",
     "start_time": "2020-09-09T06:40:08.161501Z"
    },
    "_uuid": "ab81355633e601aa397051a41bc96dabaf03efd5"
   },
   "outputs": [],
   "source": [
    "def rmsle(y, y_pred):\n",
    "    return np.sqrt(mean_squared_error(y, y_pred))\n",
    "\n",
    "result_root = './5basic_4distance_4681company/result/result_CVAE/'"
   ]
  },
  {
   "cell_type": "markdown",
   "metadata": {
    "_uuid": "535697169e96b959e86d5801f00e9ea48b8f9509"
   },
   "source": [
    "## **<font color='green'>Train the selected model :</font>**"
   ]
  },
  {
   "cell_type": "markdown",
   "metadata": {},
   "source": [
    "lightGBM:"
   ]
  },
  {
   "cell_type": "code",
   "execution_count": 409,
   "metadata": {
    "ExecuteTime": {
     "end_time": "2020-09-09T11:14:31.402893Z",
     "start_time": "2020-09-09T11:14:26.783954Z"
    },
    "_uuid": "76acb67a53f1f0602a2d1fcae57f1a441bdec067",
    "scrolled": false
   },
   "outputs": [
    {
     "name": "stdout",
     "output_type": "stream",
     "text": [
      "0.5687976472684584\n",
      "5.070223522055462\n"
     ]
    }
   ],
   "source": [
    "model.fit(train_x, train_y)\n",
    "train_prediction = model.predict(train)\n",
    "prediction = np.expm1(model.predict(test.values))\n",
    "print(rmsle(train_y, train_prediction))\n",
    "print(rmsle(test_y, prediction))"
   ]
  },
  {
   "cell_type": "markdown",
   "metadata": {},
   "source": [
    "(lightGBM) Done. Submit the answer.:"
   ]
  },
  {
   "cell_type": "code",
   "execution_count": 364,
   "metadata": {
    "ExecuteTime": {
     "end_time": "2020-09-09T06:40:37.863313Z",
     "start_time": "2020-09-09T06:40:37.794722Z"
    }
   },
   "outputs": [],
   "source": [
    "submission = pd.DataFrame({'PatentNumber': PatentNumber, 'TimeCitedFiveYearCNT': prediction})\n",
    "submission.to_csv(result_root+'lightGBM_submission.csv', index=False)"
   ]
  },
  {
   "cell_type": "markdown",
   "metadata": {},
   "source": [
    "xgboost:"
   ]
  },
  {
   "cell_type": "code",
   "execution_count": 365,
   "metadata": {
    "ExecuteTime": {
     "end_time": "2020-09-09T06:40:40.769977Z",
     "start_time": "2020-09-09T06:40:37.865556Z"
    }
   },
   "outputs": [
    {
     "name": "stdout",
     "output_type": "stream",
     "text": [
      "0.5669878655546666\n",
      "5.054783857745554\n"
     ]
    }
   ],
   "source": [
    "xgb_model.fit(train_x,train_y)\n",
    "train_prediction = xgb_model.predict(train)\n",
    "prediction = np.expm1(xgb_model.predict(test))\n",
    "#這邊values會出錯，把values去除\n",
    "# prediction = np.expm1(xgb_model.predict(test.values))\n",
    "print(rmsle(train_y, train_prediction))\n",
    "print(rmsle(test_y, prediction))"
   ]
  },
  {
   "cell_type": "markdown",
   "metadata": {},
   "source": [
    "(xgboost) Done. Submit the answer.:"
   ]
  },
  {
   "cell_type": "code",
   "execution_count": 366,
   "metadata": {
    "ExecuteTime": {
     "end_time": "2020-09-09T06:40:40.837456Z",
     "start_time": "2020-09-09T06:40:40.774159Z"
    }
   },
   "outputs": [],
   "source": [
    "submission = pd.DataFrame({'PatentNumber': PatentNumber, 'TimeCitedFiveYearCNT': prediction})\n",
    "submission.to_csv(result_root+'xgboost_submission.csv', index=False)"
   ]
  },
  {
   "cell_type": "markdown",
   "metadata": {},
   "source": [
    "linear regression:"
   ]
  },
  {
   "cell_type": "code",
   "execution_count": 369,
   "metadata": {
    "ExecuteTime": {
     "end_time": "2020-09-09T06:41:00.661241Z",
     "start_time": "2020-09-09T06:41:00.640128Z"
    }
   },
   "outputs": [
    {
     "name": "stdout",
     "output_type": "stream",
     "text": [
      "0.7362646524834596\n",
      "11.44811462961189\n"
     ]
    }
   ],
   "source": [
    "lr_model.fit(train_x, train_y)\n",
    "\n",
    "train_prediction = lr_model.predict(train)\n",
    "prediction = np.expm1(lr_model.predict(test.values))\n",
    "print(rmsle(train_y, train_prediction))\n",
    "print(rmsle(test_y, prediction))"
   ]
  },
  {
   "cell_type": "markdown",
   "metadata": {},
   "source": [
    "(linear regression) Done. Submit the answer.:"
   ]
  },
  {
   "cell_type": "code",
   "execution_count": 370,
   "metadata": {
    "ExecuteTime": {
     "end_time": "2020-09-09T06:41:00.760091Z",
     "start_time": "2020-09-09T06:41:00.662877Z"
    }
   },
   "outputs": [],
   "source": [
    "submission = pd.DataFrame({'PatentNumber': PatentNumber, 'TimeCitedFiveYearCNT': prediction})\n",
    "submission.to_csv(result_root+'linear_regression_submission.csv', index=False)"
   ]
  },
  {
   "cell_type": "markdown",
   "metadata": {},
   "source": [
    "Ridge:"
   ]
  },
  {
   "cell_type": "code",
   "execution_count": 371,
   "metadata": {
    "ExecuteTime": {
     "end_time": "2020-09-09T06:41:00.797314Z",
     "start_time": "2020-09-09T06:41:00.761661Z"
    }
   },
   "outputs": [
    {
     "name": "stdout",
     "output_type": "stream",
     "text": [
      "0.7376400662412457\n",
      "9.285082145254714\n"
     ]
    }
   ],
   "source": [
    "ridge.fit(train_x, train_y)\n",
    "\n",
    "train_prediction = ridge.predict(train)\n",
    "prediction = np.expm1(ridge.predict(test.values))\n",
    "print(rmsle(train_y, train_prediction))\n",
    "print(rmsle(test_y, prediction))"
   ]
  },
  {
   "cell_type": "markdown",
   "metadata": {},
   "source": [
    "(Ridge) Done. Submit the answer.:"
   ]
  },
  {
   "cell_type": "code",
   "execution_count": 372,
   "metadata": {
    "ExecuteTime": {
     "end_time": "2020-09-09T06:41:00.899290Z",
     "start_time": "2020-09-09T06:41:00.798626Z"
    }
   },
   "outputs": [],
   "source": [
    "submission = pd.DataFrame({'PatentNumber': PatentNumber, 'TimeCitedFiveYearCNT': prediction})\n",
    "submission.to_csv(result_root+'ridge_submission.csv', index=False)"
   ]
  },
  {
   "cell_type": "markdown",
   "metadata": {},
   "source": [
    "decision tree:"
   ]
  },
  {
   "cell_type": "code",
   "execution_count": 375,
   "metadata": {
    "ExecuteTime": {
     "end_time": "2020-09-09T06:41:01.649145Z",
     "start_time": "2020-09-09T06:41:01.041349Z"
    }
   },
   "outputs": [
    {
     "name": "stdout",
     "output_type": "stream",
     "text": [
      "0.02520332616898706\n",
      "5.395230697513407\n"
     ]
    }
   ],
   "source": [
    "dtr.fit(train_x, train_y)\n",
    "\n",
    "train_prediction = dtr.predict(train)\n",
    "prediction = np.expm1(dtr.predict(test.values))\n",
    "print(rmsle(train_y, train_prediction))\n",
    "print(rmsle(test_y, prediction))"
   ]
  },
  {
   "cell_type": "markdown",
   "metadata": {},
   "source": [
    "(decision tree) Done. Submit the answer.:"
   ]
  },
  {
   "cell_type": "code",
   "execution_count": 376,
   "metadata": {
    "ExecuteTime": {
     "end_time": "2020-09-09T06:41:01.705972Z",
     "start_time": "2020-09-09T06:41:01.655194Z"
    }
   },
   "outputs": [],
   "source": [
    "submission = pd.DataFrame({'PatentNumber': PatentNumber, 'TimeCitedFiveYearCNT': prediction})\n",
    "submission.to_csv(result_root+'decision_tree_submission.csv', index=False)"
   ]
  },
  {
   "cell_type": "markdown",
   "metadata": {},
   "source": [
    "GradientBoostingRegressor(GBR):"
   ]
  },
  {
   "cell_type": "code",
   "execution_count": 379,
   "metadata": {
    "ExecuteTime": {
     "end_time": "2020-09-09T06:41:10.569487Z",
     "start_time": "2020-09-09T06:41:01.862618Z"
    }
   },
   "outputs": [
    {
     "name": "stdout",
     "output_type": "stream",
     "text": [
      "0.5676810627921351\n",
      "5.066073863877825\n"
     ]
    }
   ],
   "source": [
    "GBR.fit(train_x, train_y)\n",
    "\n",
    "train_prediction = GBR.predict(train)\n",
    "prediction = np.expm1(GBR.predict(test.values))\n",
    "print(rmsle(train_y, train_prediction))\n",
    "print(rmsle(test_y, prediction))"
   ]
  },
  {
   "cell_type": "markdown",
   "metadata": {},
   "source": [
    "(GBR) Done. Submit the answer.:"
   ]
  },
  {
   "cell_type": "code",
   "execution_count": 380,
   "metadata": {
    "ExecuteTime": {
     "end_time": "2020-09-09T06:41:10.625429Z",
     "start_time": "2020-09-09T06:41:10.571502Z"
    }
   },
   "outputs": [],
   "source": [
    "submission = pd.DataFrame({'PatentNumber': PatentNumber, 'TimeCitedFiveYearCNT': prediction})\n",
    "submission.to_csv(result_root+'GBR_submission.csv', index=False)"
   ]
  },
  {
   "cell_type": "markdown",
   "metadata": {},
   "source": [
    "## Compare to patent(AAAI 2017)"
   ]
  },
  {
   "cell_type": "code",
   "execution_count": 453,
   "metadata": {
    "ExecuteTime": {
     "end_time": "2020-09-10T04:10:33.093422Z",
     "start_time": "2020-09-10T04:10:33.087640Z"
    }
   },
   "outputs": [
    {
     "data": {
      "text/plain": [
       "array([6., 1., 0., ..., 3., 2., 2.])"
      ]
     },
     "execution_count": 453,
     "metadata": {},
     "output_type": "execute_result"
    }
   ],
   "source": [
    "test_y"
   ]
  },
  {
   "cell_type": "code",
   "execution_count": 458,
   "metadata": {
    "ExecuteTime": {
     "end_time": "2020-09-10T04:11:47.809404Z",
     "start_time": "2020-09-10T04:11:47.778341Z"
    }
   },
   "outputs": [
    {
     "data": {
      "text/plain": [
       "array([1.59747315, 2.82504614, 2.26986942, ..., 1.56506861, 1.92818637,\n",
       "       2.26836112])"
      ]
     },
     "execution_count": 458,
     "metadata": {},
     "output_type": "execute_result"
    }
   ],
   "source": [
    "patent = pd.read_csv('./patent-master/patent_pred_result4_InvCtry.csv')\n",
    "patent = patent.values[70000:,1:].squeeze()\n",
    "patent"
   ]
  },
  {
   "cell_type": "code",
   "execution_count": 459,
   "metadata": {
    "ExecuteTime": {
     "end_time": "2020-09-10T04:11:48.196987Z",
     "start_time": "2020-09-10T04:11:48.191291Z"
    }
   },
   "outputs": [
    {
     "name": "stdout",
     "output_type": "stream",
     "text": [
      "7.533090614775396\n"
     ]
    }
   ],
   "source": [
    "print(rmsle(test_y, patent))"
   ]
  },
  {
   "cell_type": "markdown",
   "metadata": {},
   "source": [
    "## Compute ACC and MAPE"
   ]
  },
  {
   "cell_type": "code",
   "execution_count": null,
   "metadata": {},
   "outputs": [],
   "source": [
    "#patent_pred = pd.read_csv('patent_pred.csv')\n",
    "patent_pred = pd.read_csv('./../5basic_4681company/result/result/GBR_submission.csv')\n",
    "#patent_pred = patent_pred['Predict']\n",
    "patent_pred = patent_pred['TimeCitedFiveYearCNT']\n",
    "\n",
    "target = pd.read_csv('./../dataset_year_2013.csv')\n",
    "target = target.fillna(0)\n",
    "target = target['TimeCitedFiveYearCNT']"
   ]
  },
  {
   "cell_type": "markdown",
   "metadata": {},
   "source": [
    "## ACC-5"
   ]
  },
  {
   "cell_type": "code",
   "execution_count": null,
   "metadata": {},
   "outputs": [],
   "source": [
    "cnt = 0\n",
    "for i in range(len(patent_pred)):\n",
    "    error_rate = (patent_pred[i] - target[i+70000])/(target[i+70000]+0.001)\n",
    "    if error_rate > 0.05:\n",
    "        cnt += 1\n",
    "        \n",
    "1 - cnt/(len(patent_pred))"
   ]
  },
  {
   "cell_type": "markdown",
   "metadata": {},
   "source": [
    "## ACC-30"
   ]
  },
  {
   "cell_type": "code",
   "execution_count": null,
   "metadata": {},
   "outputs": [],
   "source": [
    "cnt = 0\n",
    "for i in range(len(patent_pred)):\n",
    "    error_rate = (patent_pred[] - target[i+70000])/(target[i+70000]+0.001)\n",
    "    if error_rate > 0.3:\n",
    "        cnt += 1\n",
    "        \n",
    "1 - cnt/(len(patent_pred))"
   ]
  },
  {
   "cell_type": "markdown",
   "metadata": {},
   "source": [
    "## MAPE"
   ]
  },
  {
   "cell_type": "code",
   "execution_count": null,
   "metadata": {},
   "outputs": [],
   "source": [
    "sum(abs((np.array(target[70000:]) - np.array(patent_pred))/np.array(target[70000:]+0.001)))*100/(len(patent_pred))"
   ]
  }
 ],
 "metadata": {
  "kernelspec": {
   "display_name": "Python 3 (ipykernel)",
   "language": "python",
   "name": "python3"
  },
  "language_info": {
   "codemirror_mode": {
    "name": "ipython",
    "version": 3
   },
   "file_extension": ".py",
   "mimetype": "text/x-python",
   "name": "python",
   "nbconvert_exporter": "python",
   "pygments_lexer": "ipython3",
   "version": "3.7.13"
  }
 },
 "nbformat": 4,
 "nbformat_minor": 1
}
