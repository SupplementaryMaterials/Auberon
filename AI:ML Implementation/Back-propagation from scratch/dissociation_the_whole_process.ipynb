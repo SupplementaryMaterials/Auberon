{
 "cells": [
  {
   "cell_type": "code",
   "execution_count": 1,
   "metadata": {},
   "outputs": [],
   "source": [
    "import numpy as np\n",
    "import matplotlib.pyplot as plt"
   ]
  },
  {
   "cell_type": "markdown",
   "metadata": {},
   "source": [
    "# UDF"
   ]
  },
  {
   "cell_type": "code",
   "execution_count": 2,
   "metadata": {},
   "outputs": [],
   "source": [
    "#生成線性資料\n",
    "def generate_linear(n=100):\n",
    "    pts = np.random.uniform(0, 1, (n, 2)) #從[0, 1]取出\n",
    "    inputs = []\n",
    "    labels = []\n",
    "    for pt in pts:\n",
    "        inputs.append([pt[0], pt[1]])\n",
    "        distance = (pt[0]-pt[1])/1.414\n",
    "        if pt[0] > pt[1]:\n",
    "            labels.append(0)\n",
    "        else:\n",
    "            labels.append(1)\n",
    "    return np.array(inputs), np.array(labels).reshape(n, 1)\n",
    "\n",
    "#生成XOR資料\n",
    "def generate_XOR_easy():\n",
    "    inputs = []\n",
    "    labels = []\n",
    "    \n",
    "    for i in range(11):\n",
    "        inputs.append([0.1*i, 0.1*i])\n",
    "        labels.append(0)\n",
    "        \n",
    "        if 0.1*i == 0.5:\n",
    "            continue\n",
    "        \n",
    "        inputs.append([0.1*i, 1-0.1*i])\n",
    "        labels.append(1)\n",
    "    \n",
    "    return np.array(inputs), np.array(labels).reshape(21, 1)\n",
    "\n",
    "#把結果列印出來\n",
    "def show_result(x, y, pred_y):\n",
    "    plt.subplot(1,2,1)\n",
    "    plt.title('Ground truth', fontsize=18)\n",
    "    for i in range(x.shape[0]):\n",
    "        if y[i] == 0:\n",
    "            plt.plot(x[i][0], x[i][1], 'ro')\n",
    "        else:\n",
    "            plt.plot(x[i][0], x[i][1], 'bo')\n",
    "    plt.subplot(1,2,2)\n",
    "    plt.title('Predict result', fontsize=18)\n",
    "    for i in range(x.shape[0]):\n",
    "        if round(float(pred_y[i])) == 0:\n",
    "            plt.plot(x[i][0], x[i][1], 'ro')\n",
    "        else:\n",
    "            plt.plot(x[i][0], x[i][1], 'bo')\n",
    "    plt.show()\n",
    "\n",
    "#準確率計算    \n",
    "def accuracy(x, y, n):\n",
    "    total = 0\n",
    "    for i in range(len(x)):\n",
    "        bias = x[i] - y[i]\n",
    "        total += abs(bias)\n",
    "    return 1 - float(total / n)"
   ]
  },
  {
   "cell_type": "code",
   "execution_count": 3,
   "metadata": {},
   "outputs": [],
   "source": [
    "x3, y3 = generate_linear(n=10)"
   ]
  },
  {
   "cell_type": "code",
   "execution_count": 10,
   "metadata": {},
   "outputs": [
    {
     "data": {
      "text/plain": [
       "array([[0.59388597, 0.34858075]])"
      ]
     },
     "execution_count": 10,
     "metadata": {},
     "output_type": "execute_result"
    }
   ],
   "source": [
    "x3[:1]\n"
   ]
  },
  {
   "cell_type": "code",
   "execution_count": 11,
   "metadata": {},
   "outputs": [
    {
     "data": {
      "text/plain": [
       "array([[0.21145285, 0.70671326],\n",
       "       [0.80443073, 0.87044813],\n",
       "       [0.60269799, 0.30150399],\n",
       "       [0.35218063, 0.08990763],\n",
       "       [0.37937289, 0.36044517],\n",
       "       [0.93148632, 0.57826462],\n",
       "       [0.30781717, 0.86765793],\n",
       "       [0.80435205, 0.76601061],\n",
       "       [0.34353573, 0.86469776]])"
      ]
     },
     "execution_count": 11,
     "metadata": {},
     "output_type": "execute_result"
    }
   ],
   "source": [
    "x3[1:]"
   ]
  },
  {
   "cell_type": "code",
   "execution_count": 7,
   "metadata": {},
   "outputs": [
    {
     "data": {
      "text/plain": [
       "array([[0.59388597, 0.34858075],\n",
       "       [0.21145285, 0.70671326],\n",
       "       [0.80443073, 0.87044813],\n",
       "       [0.60269799, 0.30150399],\n",
       "       [0.35218063, 0.08990763],\n",
       "       [0.37937289, 0.36044517],\n",
       "       [0.93148632, 0.57826462],\n",
       "       [0.30781717, 0.86765793],\n",
       "       [0.80435205, 0.76601061],\n",
       "       [0.34353573, 0.86469776]])"
      ]
     },
     "execution_count": 7,
     "metadata": {},
     "output_type": "execute_result"
    }
   ],
   "source": [
    "x3[:]"
   ]
  },
  {
   "cell_type": "markdown",
   "metadata": {},
   "source": [
    "# 設置初始值"
   ]
  },
  {
   "cell_type": "code",
   "execution_count": 16,
   "metadata": {},
   "outputs": [],
   "source": [
    "x1, y1 = generate_linear(n=10)\n",
    "x2, y2 = generate_XOR_easy()"
   ]
  },
  {
   "cell_type": "code",
   "execution_count": 19,
   "metadata": {},
   "outputs": [
    {
     "name": "stdout",
     "output_type": "stream",
     "text": [
      "[[0.16656284 0.0059225 ]\n",
      " [0.46248447 0.12175872]\n",
      " [0.8383795  0.41969786]\n",
      " [0.61216517 0.90217213]\n",
      " [0.5714587  0.02015104]\n",
      " [0.83974911 0.20007378]\n",
      " [0.74595348 0.68302444]\n",
      " [0.53763976 0.0842499 ]\n",
      " [0.68055076 0.32323706]\n",
      " [0.57479537 0.01778748]]\n",
      "\n",
      "\n",
      "[[0]\n",
      " [0]\n",
      " [0]\n",
      " [1]\n",
      " [0]\n",
      " [0]\n",
      " [0]\n",
      " [0]\n",
      " [0]\n",
      " [0]]\n"
     ]
    }
   ],
   "source": [
    "print (x1)\n",
    "print (\"\\n\")\n",
    "print (y1)"
   ]
  },
  {
   "cell_type": "markdown",
   "metadata": {},
   "source": [
    "# 設置初始weight"
   ]
  },
  {
   "cell_type": "code",
   "execution_count": 24,
   "metadata": {},
   "outputs": [],
   "source": [
    "inputSize = 2\n",
    "outputSize = 1\n",
    "hiddenSize = 3\n",
    "\n",
    "#初始權重(這邊這樣設計是為了讓其遵守行列式乘法規則左邊矩陣n行=右邊矩陣m列)\n",
    "W1 = np.random.randn(inputSize, hiddenSize) \n",
    "W2 = np.random.randn(hiddenSize, outputSize) \n",
    "\n",
    "W3 =  np.random.randn(2, 2) "
   ]
  },
  {
   "cell_type": "code",
   "execution_count": 25,
   "metadata": {},
   "outputs": [
    {
     "name": "stdout",
     "output_type": "stream",
     "text": [
      "initial weight 1 is (2*3 matrix) : \n",
      "[[-0.78444725 -0.67602865  0.342683  ]\n",
      " [-0.82885253 -0.08055822  1.10454513]]\n",
      "\n",
      "\n",
      "initial weight 2 is (3*1 matrix) : \n",
      "[[ 0.5062091 ]\n",
      " [-0.55557648]\n",
      " [ 0.78725691]]\n"
     ]
    }
   ],
   "source": [
    "#m列n行\n",
    "print (\"initial weight 1 is (\"+str(inputSize)+\"*\"+str(hiddenSize)+\" matrix) : \")\n",
    "print (W1)\n",
    "print ('\\n')\n",
    "print (\"initial weight 2 is (\"+str(hiddenSize)+\"*\"+str(outputSize)+\" matrix) : \")\n",
    "print (W2)"
   ]
  },
  {
   "cell_type": "markdown",
   "metadata": {},
   "source": [
    "# forward (with sigmoid)"
   ]
  },
  {
   "cell_type": "code",
   "execution_count": 28,
   "metadata": {},
   "outputs": [],
   "source": [
    "def sigmoid(x):\n",
    "    # 激勵函數 \n",
    "    return 1/(1+np.exp(-x))"
   ]
  },
  {
   "cell_type": "code",
   "execution_count": 30,
   "metadata": {},
   "outputs": [],
   "source": [
    "# 矩陣相乘x1*W1 (10*2 - 2*3 ==> 10*3 matrix)\n",
    "z1 = np.dot(x1, W1) \n",
    "\n",
    "# 用numpy實現整個matrix做exp運算\n",
    "z2 = sigmoid(z1) \n",
    "\n",
    "# 矩陣相乘z2*W2 (10*3 - 3*1 ==> 10*1 matrix)\n",
    "z = np.dot(z2, W2) \n",
    "output = sigmoid(z) "
   ]
  },
  {
   "cell_type": "code",
   "execution_count": 40,
   "metadata": {},
   "outputs": [
    {
     "name": "stdout",
     "output_type": "stream",
     "text": [
      "x1: \n",
      "[[0.16656284 0.0059225 ]\n",
      " [0.46248447 0.12175872]\n",
      " [0.8383795  0.41969786]\n",
      " [0.61216517 0.90217213]\n",
      " [0.5714587  0.02015104]\n",
      " [0.83974911 0.20007378]\n",
      " [0.74595348 0.68302444]\n",
      " [0.53763976 0.0842499 ]\n",
      " [0.68055076 0.32323706]\n",
      " [0.57479537 0.01778748]]\n",
      "\n",
      "\n",
      "W1: \n",
      "[[-0.78444725 -0.67602865  0.342683  ]\n",
      " [-0.82885253 -0.08055822  1.10454513]]\n",
      "\n",
      "\n",
      "z1: \n",
      "[[-0.13556864 -0.11307836  0.06361992]\n",
      " [-0.46371469 -0.32246142  0.29297357]\n",
      " [-1.00553213 -0.60057867  0.75087364]\n",
      " [-1.22797894 -0.48651857  1.20626843]\n",
      " [-0.46498145 -0.38794579  0.21808692]\n",
      " [-0.82457054 -0.58381204  0.50875826]\n",
      " [-1.1512877  -0.55930916  1.0100569 ]\n",
      " [-0.49158077 -0.3702469   0.27729782]\n",
      " [-0.80177203 -0.48611121  0.59024311]\n",
      " [-0.46563984 -0.39001106  0.21661967]]\n",
      "\n",
      "\n",
      "z2: \n",
      "[[0.46615965 0.47176049 0.51589962]\n",
      " [0.38610497 0.420076   0.57272395]\n",
      " [0.26785513 0.35421131 0.67936903]\n",
      " [0.22653536 0.38071405 0.76963803]\n",
      " [0.38580475 0.40421191 0.55430666]\n",
      " [0.30479432 0.35805591 0.62451534]\n",
      " [0.24025396 0.36370732 0.73303129]\n",
      " [0.37952125 0.40848136 0.56888362]\n",
      " [0.30964659 0.38081009 0.64342092]\n",
      " [0.38564875 0.40371464 0.55394414]]\n",
      "\n",
      "\n",
      "W2: \n",
      "[[ 0.5062091 ]\n",
      " [-0.55557648]\n",
      " [ 0.78725691]]\n",
      "\n",
      "\n",
      "z: \n",
      "[[0.38002076]\n",
      " [0.41294639]\n",
      " [0.47363719]\n",
      " [0.50906134]\n",
      " [0.40710899]\n",
      " [0.44701623]\n",
      " [0.49663545]\n",
      " [0.41303204]\n",
      " [0.45171436]\n",
      " [0.4070209 ]]\n",
      "\n",
      "\n",
      "output: \n",
      "[[0.59387811]\n",
      " [0.60179416]\n",
      " [0.61624427]\n",
      " [0.62458641]\n",
      " [0.60039447]\n",
      " [0.60992958]\n",
      " [0.62166832]\n",
      " [0.60181468]\n",
      " [0.61104676]\n",
      " [0.60037333]]\n"
     ]
    }
   ],
   "source": [
    "print (\"x1: \")\n",
    "print (x1) #10*2 matrix\n",
    "print (\"\\n\")\n",
    "print (\"W1: \")\n",
    "print (W1) #2*3 matrix\n",
    "print (\"\\n\")\n",
    "print (\"z1: \")\n",
    "print (z1) #10*3 matrix\n",
    "print (\"\\n\")\n",
    "print (\"z2: \")\n",
    "print (z2) #10*3 matrix\n",
    "print (\"\\n\")\n",
    "print (\"W2: \")\n",
    "print (W2) #3*1 matrix\n",
    "print (\"\\n\")\n",
    "print (\"z: \")\n",
    "print (z) #10*1 matrix\n",
    "print (\"\\n\")\n",
    "print (\"output: \")\n",
    "print (output) #10*1 matrix\n"
   ]
  },
  {
   "cell_type": "code",
   "execution_count": 41,
   "metadata": {},
   "outputs": [
    {
     "name": "stdout",
     "output_type": "stream",
     "text": [
      "predict output: \n",
      "[[0.59387811]\n",
      " [0.60179416]\n",
      " [0.61624427]\n",
      " [0.62458641]\n",
      " [0.60039447]\n",
      " [0.60992958]\n",
      " [0.62166832]\n",
      " [0.60181468]\n",
      " [0.61104676]\n",
      " [0.60037333]]\n",
      "actual output: \n",
      "[[0]\n",
      " [0]\n",
      " [0]\n",
      " [1]\n",
      " [0]\n",
      " [0]\n",
      " [0]\n",
      " [0]\n",
      " [0]\n",
      " [0]]\n"
     ]
    }
   ],
   "source": [
    "#一次forward傳播與真實輸出的比較\n",
    "print (\"predict output: \")\n",
    "print (output) #10*1 matrix\n",
    "\n",
    "print (\"actual output: \")\n",
    "print (y1) #10*1 matrix"
   ]
  },
  {
   "cell_type": "markdown",
   "metadata": {},
   "source": [
    "# backpropagation"
   ]
  },
  {
   "cell_type": "code",
   "execution_count": 44,
   "metadata": {},
   "outputs": [],
   "source": [
    "def sigmoidPrime(x):\n",
    "    # 激勵函數微分\n",
    "    return x * (1 - x)"
   ]
  },
  {
   "cell_type": "markdown",
   "metadata": {},
   "source": [
    "# [計算預測誤差] error_output = y1 - output"
   ]
  },
  {
   "cell_type": "code",
   "execution_count": 42,
   "metadata": {},
   "outputs": [
    {
     "name": "stdout",
     "output_type": "stream",
     "text": [
      "y1: \n",
      "[[0]\n",
      " [0]\n",
      " [0]\n",
      " [1]\n",
      " [0]\n",
      " [0]\n",
      " [0]\n",
      " [0]\n",
      " [0]\n",
      " [0]]\n",
      "\n",
      "\n",
      "output: \n",
      "[[0.59387811]\n",
      " [0.60179416]\n",
      " [0.61624427]\n",
      " [0.62458641]\n",
      " [0.60039447]\n",
      " [0.60992958]\n",
      " [0.62166832]\n",
      " [0.60181468]\n",
      " [0.61104676]\n",
      " [0.60037333]]\n",
      "\n",
      "\n",
      "error_output: \n",
      "[[-0.59387811]\n",
      " [-0.60179416]\n",
      " [-0.61624427]\n",
      " [ 0.37541359]\n",
      " [-0.60039447]\n",
      " [-0.60992958]\n",
      " [-0.62166832]\n",
      " [-0.60181468]\n",
      " [-0.61104676]\n",
      " [-0.60037333]]\n",
      "\n",
      "\n"
     ]
    }
   ],
   "source": [
    "print (\"y1: \")\n",
    "print (y1) #10*1 matrix\n",
    "print (\"\\n\")\n",
    "print (\"output: \")\n",
    "print (output) #10*1 matrix\n",
    "print (\"\\n\")\n",
    "\n",
    "#計算真正的y跟預測的y之間的差距\n",
    "error_output = y1 - output\n",
    "print (\"error_output: \")\n",
    "print (error_output) #10*1 matrix\n",
    "print (\"\\n\")"
   ]
  },
  {
   "attachments": {
    "image.png": {
     "image/png": "[encoded data removed]"
    }
   },
   "cell_type": "markdown",
   "metadata": {},
   "source": [
    "# [梯度下降] delta_output = error_output*sigmoidPrime(output) \n",
    "![image.png](attachment:image.png)"
   ]
  },
  {
   "cell_type": "code",
   "execution_count": 45,
   "metadata": {},
   "outputs": [
    {
     "name": "stdout",
     "output_type": "stream",
     "text": [
      "error_output: \n",
      "[[-0.59387811]\n",
      " [-0.60179416]\n",
      " [-0.61624427]\n",
      " [ 0.37541359]\n",
      " [-0.60039447]\n",
      " [-0.60992958]\n",
      " [-0.62166832]\n",
      " [-0.60181468]\n",
      " [-0.61104676]\n",
      " [-0.60037333]]\n",
      "\n",
      "\n",
      "sigmoidPrime(output): \n",
      "[[0.2411869 ]\n",
      " [0.23963795]\n",
      " [0.23648727]\n",
      " [0.23447823]\n",
      " [0.23992095]\n",
      " [0.23791549]\n",
      " [0.23519682]\n",
      " [0.23963377]\n",
      " [0.23766862]\n",
      " [0.23992519]]\n",
      "\n",
      "\n",
      "delta_output = error_output*sigmoidPrime(output)  : \n",
      "[[-0.14323562]\n",
      " [-0.14421272]\n",
      " [-0.14573392]\n",
      " [ 0.08802631]\n",
      " [-0.14404721]\n",
      " [-0.14511169]\n",
      " [-0.14621441]\n",
      " [-0.14421512]\n",
      " [-0.14522664]\n",
      " [-0.14404469]]\n",
      "\n",
      "\n"
     ]
    }
   ],
   "source": [
    "#把輸出微分處理，接著乘上誤差 (梯度下降)\n",
    "delta_output = error_output*sigmoidPrime(output) \n",
    "\n",
    "print (\"error_output: \")\n",
    "print (error_output) #10*1 matrix\n",
    "print (\"\\n\")\n",
    "\n",
    "#給輸出的值方向\n",
    "print (\"sigmoidPrime(output): \")\n",
    "print (sigmoidPrime(output)) #10*1 matrix\n",
    "print (\"\\n\")\n",
    "\n",
    "print (\"delta_output = error_output*sigmoidPrime(output)  : \")\n",
    "print (delta_output) #10*1 matrix\n",
    "print (\"\\n\")"
   ]
  },
  {
   "cell_type": "markdown",
   "metadata": {},
   "source": [
    "# (從後面計算Z2誤差) z2_error = delta_output.dot(W2.T) "
   ]
  },
  {
   "cell_type": "code",
   "execution_count": 51,
   "metadata": {},
   "outputs": [
    {
     "name": "stdout",
     "output_type": "stream",
     "text": [
      "W2: \n",
      "[[ 0.5062091 ]\n",
      " [-0.55557648]\n",
      " [ 0.78725691]]\n",
      "\n",
      "\n",
      "W2.T (轉置): \n",
      "[[ 0.5062091  -0.55557648  0.78725691]]\n",
      "\n",
      "\n"
     ]
    }
   ],
   "source": [
    "#轉置矩陣\n",
    "print (\"W2: \")\n",
    "print (W2) #3*1 matrix\n",
    "print (\"\\n\")\n",
    "print (\"W2.T (轉置): \")\n",
    "print (W2.T) #1*3 matrix\n",
    "print (\"\\n\")"
   ]
  },
  {
   "cell_type": "code",
   "execution_count": 57,
   "metadata": {},
   "outputs": [
    {
     "name": "stdout",
     "output_type": "stream",
     "text": [
      "delta_output: \n",
      "[[-0.14323562]\n",
      " [-0.14421272]\n",
      " [-0.14573392]\n",
      " [ 0.08802631]\n",
      " [-0.14404721]\n",
      " [-0.14511169]\n",
      " [-0.14621441]\n",
      " [-0.14421512]\n",
      " [-0.14522664]\n",
      " [-0.14404469]]\n",
      "\n",
      "\n",
      "W2.T (W2的轉置矩陣): \n",
      "[[ 0.5062091  -0.55557648  0.78725691]]\n",
      "\n",
      "\n",
      "z2_error = delta_output.dot(W2.T)  (輸出的梯度下降參數 * W2轉置矩陣 ): \n",
      "[[-0.07250717  0.07957834 -0.11276323]\n",
      " [-0.07300179  0.08012119 -0.11353246]\n",
      " [-0.07377184  0.08096634 -0.11473004]\n",
      " [ 0.04455972 -0.04890535  0.06929932]\n",
      " [-0.07291801  0.08002924 -0.11340216]\n",
      " [-0.07345686  0.08062064 -0.11424018]\n",
      " [-0.07401507  0.08123329 -0.11510831]\n",
      " [-0.07300301  0.08012253 -0.11353435]\n",
      " [-0.07351505  0.0806845  -0.11433067]\n",
      " [-0.07291673  0.08002784 -0.11340018]]\n",
      "\n",
      "\n"
     ]
    }
   ],
   "source": [
    "# 輸出的梯度下降參數\n",
    "print (\"delta_output: \")\n",
    "print (delta_output) #10*1 matrix\n",
    "print (\"\\n\")\n",
    "\n",
    "print (\"W2.T (W2的轉置矩陣): \")\n",
    "print (W2.T) #10*1 matrix\n",
    "print (\"\\n\")\n",
    "\n",
    "print (\"z2_error = delta_output.dot(W2.T)  (輸出的梯度下降參數 * W2轉置矩陣 ): \")\n",
    "print (delta_output.dot(W2.T) ) #10*1 matrix\n",
    "print (\"\\n\")"
   ]
  },
  {
   "cell_type": "markdown",
   "metadata": {},
   "source": [
    "# [Z2梯度下降參數] z2_delta = z2_error*sigmoidPrime(z2) "
   ]
  },
  {
   "cell_type": "code",
   "execution_count": 61,
   "metadata": {},
   "outputs": [
    {
     "name": "stdout",
     "output_type": "stream",
     "text": [
      "z2_delta = Z2梯度下降參數 (z2誤差 * sigmoid微分): \n",
      "[[-0.01804376  0.01983112 -0.0281623 ]\n",
      " [-0.01730346  0.0195185  -0.02778267]\n",
      " [-0.0144673   0.0185207  -0.02499127]\n",
      " [ 0.00780762 -0.01153046  0.01228645]\n",
      " [-0.01727861  0.01927301 -0.02801609]\n",
      " [-0.01556512  0.01853081 -0.02678886]\n",
      " [-0.01351012  0.01879936 -0.02252628]\n",
      " [-0.0171911   0.01935955 -0.02784487]\n",
      " [-0.01571499  0.0190249  -0.02623094]\n",
      " [-0.01727571  0.01926503 -0.02802005]]\n",
      "\n",
      "\n"
     ]
    }
   ],
   "source": [
    "z2_error = delta_output.dot(W2.T)\n",
    "z2_delta = z2_error*sigmoidPrime(z2) \n",
    "\n",
    "print (\"z2_delta = Z2梯度下降參數 (z2誤差 * sigmoid微分): \")\n",
    "print (z2_delta) #10*3 matrix\n",
    "print (\"\\n\")"
   ]
  },
  {
   "cell_type": "markdown",
   "metadata": {},
   "source": [
    "# (調整W1) 透過轉置x矩陣*z2微分 -  x.T.dot(z2_delta) "
   ]
  },
  {
   "cell_type": "code",
   "execution_count": 65,
   "metadata": {},
   "outputs": [
    {
     "name": "stdout",
     "output_type": "stream",
     "text": [
      "x1: \n",
      "[[0.16656284 0.0059225 ]\n",
      " [0.46248447 0.12175872]\n",
      " [0.8383795  0.41969786]\n",
      " [0.61216517 0.90217213]\n",
      " [0.5714587  0.02015104]\n",
      " [0.83974911 0.20007378]\n",
      " [0.74595348 0.68302444]\n",
      " [0.53763976 0.0842499 ]\n",
      " [0.68055076 0.32323706]\n",
      " [0.57479537 0.01778748]]\n",
      "\n",
      "\n",
      "x1.T (轉置): \n",
      "[[0.16656284 0.46248447 0.8383795  0.61216517 0.5714587  0.83974911\n",
      "  0.74595348 0.53763976 0.68055076 0.57479537]\n",
      " [0.0059225  0.12175872 0.41969786 0.90217213 0.02015104 0.20007378\n",
      "  0.68302444 0.0842499  0.32323706 0.01778748]]\n",
      "\n",
      "\n",
      "z2_delta = Z2梯度下降參數 (z2誤差 * sigmoid微分): \n",
      "[[-0.01804376  0.01983112 -0.0281623 ]\n",
      " [-0.01730346  0.0195185  -0.02778267]\n",
      " [-0.0144673   0.0185207  -0.02499127]\n",
      " [ 0.00780762 -0.01153046  0.01228645]\n",
      " [-0.01727861  0.01927301 -0.02801609]\n",
      " [-0.01556512  0.01853081 -0.02678886]\n",
      " [-0.01351012  0.01879936 -0.02252628]\n",
      " [-0.0171911   0.01935955 -0.02784487]\n",
      " [-0.01571499  0.0190249  -0.02623094]\n",
      " [-0.01727571  0.01926503 -0.02802005]]\n",
      "\n",
      "\n"
     ]
    }
   ],
   "source": [
    "#x1矩陣\n",
    "print (\"x1: \")\n",
    "print (x1) #10*2 matrix\n",
    "print (\"\\n\")\n",
    "\n",
    "#x1轉置矩陣\n",
    "print (\"x1.T (轉置): \")\n",
    "print (x1.T) #2*10 matrix\n",
    "print (\"\\n\")\n",
    "\n",
    "print (\"z2_delta = Z2梯度下降參數 (z2誤差 * sigmoid微分): \")\n",
    "print (z2_delta) #10*3 matrix\n",
    "print (\"\\n\")"
   ]
  },
  {
   "cell_type": "code",
   "execution_count": 76,
   "metadata": {},
   "outputs": [
    {
     "name": "stdout",
     "output_type": "stream",
     "text": [
      "x1.T.dot(z2_delta)  (轉置x1 * z2調降參數): \n",
      "[[-0.08124773  0.0958267  -0.13520799]\n",
      " [-0.02076719  0.02492423 -0.03558731]]\n",
      "\n",
      "\n"
     ]
    }
   ],
   "source": [
    "#調降W1的參數\n",
    "print (\"x1.T.dot(z2_delta)  (轉置x1 * z2調降參數): \")\n",
    "print (x1.T.dot(z2_delta)) #2*10 - 10*3 => 2*3 matrix\n",
    "print (\"\\n\")"
   ]
  },
  {
   "cell_type": "code",
   "execution_count": 77,
   "metadata": {},
   "outputs": [
    {
     "name": "stdout",
     "output_type": "stream",
     "text": [
      "W1: \n",
      "[[-0.78444725 -0.67602865  0.342683  ]\n",
      " [-0.82885253 -0.08055822  1.10454513]]\n",
      "\n",
      "\n",
      "x1.T.dot(z2_delta)  (轉置x1 * z2調降參數): \n",
      "[[-0.08124773  0.0958267  -0.13520799]\n",
      " [-0.02076719  0.02492423 -0.03558731]]\n",
      "\n",
      "\n",
      "new W1 : W1 += x.T.dot(z2_delta)   (轉置x1 * z2調降參數): \n",
      "[[-0.86569498 -0.58020195  0.20747501]\n",
      " [-0.84961972 -0.05563399  1.06895782]]\n",
      "\n",
      "\n"
     ]
    }
   ],
   "source": [
    "print (\"W1: \")\n",
    "print (W1) #2*3 matrix\n",
    "print (\"\\n\")\n",
    "\n",
    "print (\"x1.T.dot(z2_delta)  (轉置x1 * z2調降參數): \")\n",
    "print (x1.T.dot(z2_delta)) #2*10 - 10*3 => 2*3 matrix\n",
    "print (\"\\n\")\n",
    "\n",
    "#因為是y-output, 所以下面W用+= | 如果是output-y, 下面W用-=\n",
    "print (\"new W1 : W1 += x.T.dot(z2_delta)   (轉置x1 * z2調降參數): \")\n",
    "print (W1 + x1.T.dot(z2_delta) ) \n",
    "print (\"\\n\")\n"
   ]
  },
  {
   "cell_type": "markdown",
   "metadata": {},
   "source": [
    "# (調整W2) 透過轉置z2矩陣*output(predic y)微分 -  x.T.dot(z2_delta) "
   ]
  },
  {
   "cell_type": "code",
   "execution_count": 75,
   "metadata": {},
   "outputs": [
    {
     "name": "stdout",
     "output_type": "stream",
     "text": [
      "W2: \n",
      "[[ 0.5062091 ]\n",
      " [-0.55557648]\n",
      " [ 0.78725691]]\n",
      "\n",
      "\n",
      "z2.T.dot(delta_output)  (轉置z2 * output y hat微分): \n",
      "[[-0.43173062]\n",
      " [-0.48198982]\n",
      " [-0.72067473]]\n",
      "\n",
      "\n",
      "new W2 : W2 += z2.T.dot(delta_output)   (轉置z2 * output y hat 微分): \n",
      "[[ 0.07447847]\n",
      " [-1.0375663 ]\n",
      " [ 0.06658218]]\n",
      "\n",
      "\n"
     ]
    }
   ],
   "source": [
    "print (\"W2: \")\n",
    "print (W2) #2*3 matrix\n",
    "print (\"\\n\")\n",
    "\n",
    "print (\"z2.T.dot(delta_output)  (轉置z2 * output y hat微分): \")\n",
    "print (z2.T.dot(delta_output)) #2*10 - 10*3 => 2*3 matrix\n",
    "print (\"\\n\")\n",
    "\n",
    "#因為是y-output, 所以下面W用+= | 如果是output-y, 下面W用-=\n",
    "print (\"new W2 : W2 += z2.T.dot(delta_output)   (轉置z2 * output y hat 微分): \")\n",
    "print (W2 + z2.T.dot(delta_output) ) \n",
    "print (\"\\n\")"
   ]
  },
  {
   "cell_type": "code",
   "execution_count": null,
   "metadata": {},
   "outputs": [],
   "source": []
  }
 ],
 "metadata": {
  "kernelspec": {
   "display_name": "Python 3",
   "language": "python",
   "name": "python3"
  },
  "language_info": {
   "codemirror_mode": {
    "name": "ipython",
    "version": 3
   },
   "file_extension": ".py",
   "mimetype": "text/x-python",
   "name": "python",
   "nbconvert_exporter": "python",
   "pygments_lexer": "ipython3",
   "version": "3.6.5"
  }
 },
 "nbformat": 4,
 "nbformat_minor": 2
}
