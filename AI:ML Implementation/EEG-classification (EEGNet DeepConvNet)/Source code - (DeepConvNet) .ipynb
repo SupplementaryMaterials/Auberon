{
 "cells": [
  {
   "cell_type": "code",
   "execution_count": 1,
   "metadata": {},
   "outputs": [],
   "source": [
    "import numpy as np\n",
    "from sklearn.metrics import roc_auc_score, precision_score, recall_score, accuracy_score\n",
    "import torch\n",
    "import torch.nn as nn\n",
    "import torch.optim as optim\n",
    "from torch.autograd import Variable\n",
    "import torch.nn.functional as F\n",
    "import torch.optim as optim"
   ]
  },
  {
   "cell_type": "markdown",
   "metadata": {},
   "source": [
    "# 讀取資料"
   ]
  },
  {
   "cell_type": "code",
   "execution_count": 3,
   "metadata": {},
   "outputs": [],
   "source": [
    "S4b_train = np.load('S4b_train.npz')\n",
    "X11b_train = np.load('X11b_train.npz')\n",
    "S4b_test = np.load('S4b_test.npz')\n",
    "X11b_test = np.load('X11b_test.npz')\n",
    "\n",
    "train_data = np.concatenate((S4b_train['signal'], X11b_train['signal']), axis=0)\n",
    "train_label = np.concatenate((S4b_train['label'], X11b_train['label']), axis=0)\n",
    "test_data = np.concatenate((S4b_test['signal'], X11b_test['signal']), axis=0)\n",
    "test_label = np.concatenate((S4b_test['label'], X11b_test['label']), axis=0)\n",
    "\n",
    "train_label = train_label - 1\n",
    "test_label = test_label -1\n",
    "train_data = np.transpose(np.expand_dims(train_data, axis=1), (0, 1, 3, 2))\n",
    "test_data = np.transpose(np.expand_dims(test_data, axis=1), (0, 1, 3, 2))\n",
    "\n",
    "mask = np.where(np.isnan(train_data))\n",
    "train_data[mask] = np.nanmean(train_data)\n",
    "\n",
    "mask = np.where(np.isnan(test_data))\n",
    "test_data[mask] = np.nanmean(test_data)"
   ]
  },
  {
   "cell_type": "code",
   "execution_count": 4,
   "metadata": {},
   "outputs": [],
   "source": [
    "X_train = torch.from_numpy(train_data).float()\n",
    "y_train = torch.from_numpy(train_label).float()\n",
    "\n",
    "X_test = torch.from_numpy(test_data).float()\n",
    "y_test = torch.from_numpy(test_label).float()"
   ]
  },
  {
   "cell_type": "code",
   "execution_count": 5,
   "metadata": {},
   "outputs": [
    {
     "name": "stdout",
     "output_type": "stream",
     "text": [
      "Example of dataset: \n",
      "\n",
      "\n",
      "[[[ 5.48605805  4.4517016   4.09471132 ... -0.91535741 -3.20223105\n",
      "   -1.53627641]\n",
      "  [ 5.52571777  4.45307401  4.84520693 ... -6.9935455  -5.60505926\n",
      "   -1.15580007]]]\n"
     ]
    }
   ],
   "source": [
    "print (\"Example of dataset: \")\n",
    "print (\"\\n\")\n",
    "print (train_data[0])"
   ]
  },
  {
   "cell_type": "code",
   "execution_count": 6,
   "metadata": {},
   "outputs": [
    {
     "name": "stdout",
     "output_type": "stream",
     "text": [
      "1080 trials / 1 person / 2 hands / 750 with values\n"
     ]
    }
   ],
   "source": [
    "print (str(len(train_data))+\" trials / \"+str(len(train_data[0]))+\\\n",
    "       \" person / \"+str(len(train_data[0][0]))+\" hands / \"+str(len(train_data[0][0][0]))+\" with values\")\n"
   ]
  },
  {
   "cell_type": "markdown",
   "metadata": {},
   "source": [
    "# DeepConvNet with ReLU"
   ]
  },
  {
   "cell_type": "code",
   "execution_count": 12,
   "metadata": {},
   "outputs": [],
   "source": [
    "class DeepConvNet_ReLU(nn.Module):\n",
    "    def __init__(self):\n",
    "        super(DeepConvNet_ReLU, self).__init__()\n",
    "        \n",
    "        #Layer initial\n",
    "        self.initiallayer = nn.Sequential(\n",
    "            nn.Conv2d(1, 25, kernel_size=(1, 5), stride=(1,1), bias=False)\n",
    "         )\n",
    "        \n",
    "        # Layer 1 \n",
    "        self.firstlayer = nn.Sequential(\n",
    "            nn.Conv2d(25, 25, kernel_size=(2, 1), stride=(1,1), bias=False),\n",
    "            nn.BatchNorm2d(25, eps=1e-05, momentum=0.1 , affine=True, track_running_stats=True),\n",
    "            nn.ReLU(True),\n",
    "            nn.MaxPool2d(kernel_size=(1, 2), stride=(1, 2), padding=0, dilation=1, ceil_mode=False),\n",
    "            nn.Dropout(0.5)\n",
    "        )\n",
    "        \n",
    "        # Layer 2\n",
    "        self.secondlayer = nn.Sequential(\n",
    "            nn.Conv2d(25, 50, kernel_size=(1, 5), stride=(1,1),bias=False),\n",
    "            nn.BatchNorm2d(50, eps=1e-05, momentum=0.1, affine=True, track_running_stats=True),\n",
    "            nn.ReLU(True),\n",
    "            nn.MaxPool2d(kernel_size=(1, 2), stride=(1, 2), padding=0, dilation=1, ceil_mode=False),\n",
    "            nn.Dropout(p=0.5))\n",
    "        \n",
    "        # Layer 3\n",
    "        self.thirdlayer = nn.Sequential(\n",
    "            nn.Conv2d(50, 100, kernel_size=(1, 5),stride=(1,1),padding=(0, 25),bias=False),\n",
    "            nn.BatchNorm2d(100, eps=1e-05, momentum=0.1, affine=True, track_running_stats=True),\n",
    "            nn.ReLU(True),\n",
    "            nn.MaxPool2d(kernel_size=(1, 2), stride=(1, 2), padding=0, dilation=1, ceil_mode=False),\n",
    "            nn.Dropout(p=0.5))\n",
    "        \n",
    "        # Layer 4\n",
    "        self.fourthlayer = nn.Sequential(\n",
    "            nn.Conv2d(100, 200, kernel_size=(1, 5),stride=(1,1),padding=(0, 25),bias=False),\n",
    "            nn.BatchNorm2d(200, eps=1e-05, momentum=0.1, affine=True, track_running_stats=True),\n",
    "            nn.ReLU(True),\n",
    "            nn.MaxPool2d(kernel_size=(1, 2), stride=(1, 2), padding=0, dilation=1, ceil_mode=False),\n",
    "            nn.Dropout(p=0.5))\n",
    "        \n",
    "        # FC Layer\n",
    "        self.classify = nn.Sequential(\n",
    "            nn.Linear(in_features=16000, out_features=1, bias=True),\n",
    "            )\n",
    "        \n",
    "\n",
    "    def forward(self, x):\n",
    "        # Layer initial\n",
    "        x = self.initiallayer(x)\n",
    "        # Layer 1\n",
    "        x = self.firstlayer(x)\n",
    "        # Layer 2\n",
    "        x = self.secondlayer(x)\n",
    "        # Layer 3\n",
    "        x = self.thirdlayer(x)\n",
    "        # Layer 4\n",
    "        x = self.fourthlayer(x)\n",
    "        \n",
    "        # FC Layer\n",
    "        x = x.view(x.size(0),-1)\n",
    "        x = self.classify(x)\n",
    "            \n",
    "        return x\n",
    "    \n",
    "    \n",
    "net_ReLU = DeepConvNet_ReLU()\n",
    "criterion = nn.CrossEntropyLoss()\n",
    "optimizer = torch.optim.Adam(net_ReLU.parameters(), lr=1e-2)"
   ]
  },
  {
   "cell_type": "markdown",
   "metadata": {},
   "source": [
    "# DeepConvNet with LeakyReLU"
   ]
  },
  {
   "cell_type": "code",
   "execution_count": 9,
   "metadata": {},
   "outputs": [],
   "source": [
    "class DeepConvNet_LeakyReLU(nn.Module):\n",
    "    def __init__(self):\n",
    "        super(DeepConvNet_LeakyReLU, self).__init__()\n",
    "        \n",
    "        #Layer initial\n",
    "        self.initiallayer = nn.Sequential(\n",
    "            nn.Conv2d(1, 25, kernel_size=(1, 5), stride=(1,1), bias=False)\n",
    "         )\n",
    "        \n",
    "        # Layer 1 \n",
    "        self.firstlayer = nn.Sequential(\n",
    "            nn.Conv2d(25, 25, kernel_size=(2, 1), stride=(1,1), bias=False),\n",
    "            nn.BatchNorm2d(25, eps=1e-05, momentum=0.1 , affine=True, track_running_stats=True),\n",
    "            nn.LeakyReLU(negative_slope=0.01),\n",
    "            nn.MaxPool2d(kernel_size=(1, 2), stride=(1, 2), padding=0, dilation=1, ceil_mode=False),\n",
    "            nn.Dropout(0.5)\n",
    "        )\n",
    "        \n",
    "        # Layer 2\n",
    "        self.secondlayer = nn.Sequential(\n",
    "            nn.Conv2d(25, 50, kernel_size=(1, 5), stride=(1,1),bias=False),\n",
    "            nn.BatchNorm2d(50, eps=1e-05, momentum=0.1, affine=True, track_running_stats=True),\n",
    "            nn.LeakyReLU(negative_slope=0.01),\n",
    "            nn.MaxPool2d(kernel_size=(1, 2), stride=(1, 2), padding=0, dilation=1, ceil_mode=False),\n",
    "            nn.Dropout(p=0.5))\n",
    "        \n",
    "        # Layer 3\n",
    "        self.thirdlayer = nn.Sequential(\n",
    "            nn.Conv2d(50, 100, kernel_size=(1, 5),stride=(1,1),padding=(0, 25),bias=False),\n",
    "            nn.BatchNorm2d(100, eps=1e-05, momentum=0.1, affine=True, track_running_stats=True),\n",
    "            nn.LeakyReLU(negative_slope=0.01),\n",
    "            nn.MaxPool2d(kernel_size=(1, 2), stride=(1, 2), padding=0, dilation=1, ceil_mode=False),\n",
    "            nn.Dropout(p=0.5))\n",
    "        \n",
    "        # Layer 4\n",
    "        self.fourthlayer = nn.Sequential(\n",
    "            nn.Conv2d(100, 200, kernel_size=(1, 5),stride=(1,1),padding=(0, 25),bias=False),\n",
    "            nn.BatchNorm2d(200, eps=1e-05, momentum=0.1, affine=True, track_running_stats=True),\n",
    "            nn.LeakyReLU(negative_slope=0.01),\n",
    "            nn.MaxPool2d(kernel_size=(1, 2), stride=(1, 2), padding=0, dilation=1, ceil_mode=False),\n",
    "            nn.Dropout(p=0.5))\n",
    "        \n",
    "        # FC Layer\n",
    "        self.classify = nn.Sequential(\n",
    "            nn.Linear(in_features=16000, out_features=1, bias=True),\n",
    "            )\n",
    "        \n",
    "\n",
    "    def forward(self, x):\n",
    "        # Layer initial\n",
    "        x = self.initiallayer(x)\n",
    "        # Layer 1\n",
    "        x = self.firstlayer(x)\n",
    "        # Layer 2\n",
    "        x = self.secondlayer(x)\n",
    "        # Layer 3\n",
    "        x = self.thirdlayer(x)\n",
    "        # Layer 4\n",
    "        x = self.fourthlayer(x)\n",
    "        \n",
    "        # FC Layer\n",
    "        x = x.view(x.size(0),-1)\n",
    "        x = self.classify(x)\n",
    "            \n",
    "        return x\n",
    "    \n",
    "    \n",
    "net_LeakyReLU = DeepConvNet_LeakyReLU()\n",
    "criterion = nn.CrossEntropyLoss()\n",
    "optimizer = torch.optim.Adam(net_LeakyReLU.parameters(), lr=1e-2)"
   ]
  },
  {
   "cell_type": "markdown",
   "metadata": {},
   "source": [
    "# DeepConvNet with ELU"
   ]
  },
  {
   "cell_type": "code",
   "execution_count": 11,
   "metadata": {},
   "outputs": [],
   "source": [
    "class DeepConvNet_ELU(nn.Module):\n",
    "    def __init__(self):\n",
    "        super(DeepConvNet_ELU, self).__init__()\n",
    "        \n",
    "        #Layer initial\n",
    "        self.initiallayer = nn.Sequential(\n",
    "            nn.Conv2d(1, 25, kernel_size=(1, 5), stride=(1,1), bias=False)\n",
    "         )\n",
    "        \n",
    "        # Layer 1 \n",
    "        self.firstlayer = nn.Sequential(\n",
    "            nn.Conv2d(25, 25, kernel_size=(2, 1), stride=(1,1), bias=False),\n",
    "            nn.BatchNorm2d(25, eps=1e-05, momentum=0.1 , affine=True, track_running_stats=True),\n",
    "            nn.ELU(alpha=1.0),\n",
    "            nn.MaxPool2d(kernel_size=(1, 2), stride=(1, 2), padding=0, dilation=1, ceil_mode=False),\n",
    "            nn.Dropout(0.5)\n",
    "        )\n",
    "        \n",
    "        # Layer 2\n",
    "        self.secondlayer = nn.Sequential(\n",
    "            nn.Conv2d(25, 50, kernel_size=(1, 5), stride=(1,1),bias=False),\n",
    "            nn.BatchNorm2d(50, eps=1e-05, momentum=0.1, affine=True, track_running_stats=True),\n",
    "            nn.ELU(alpha=1.0),\n",
    "            nn.MaxPool2d(kernel_size=(1, 2), stride=(1, 2), padding=0, dilation=1, ceil_mode=False),\n",
    "            nn.Dropout(p=0.5))\n",
    "        \n",
    "        # Layer 3\n",
    "        self.thirdlayer = nn.Sequential(\n",
    "            nn.Conv2d(50, 100, kernel_size=(1, 5),stride=(1,1),padding=(0, 25),bias=False),\n",
    "            nn.BatchNorm2d(100, eps=1e-05, momentum=0.1, affine=True, track_running_stats=True),\n",
    "            nn.ELU(alpha=1.0),\n",
    "            nn.MaxPool2d(kernel_size=(1, 2), stride=(1, 2), padding=0, dilation=1, ceil_mode=False),\n",
    "            nn.Dropout(p=0.5))\n",
    "        \n",
    "        # Layer 4\n",
    "        self.fourthlayer = nn.Sequential(\n",
    "            nn.Conv2d(100, 200, kernel_size=(1, 5),stride=(1,1),padding=(0, 25),bias=False),\n",
    "            nn.BatchNorm2d(200, eps=1e-05, momentum=0.1, affine=True, track_running_stats=True),\n",
    "            nn.ELU(alpha=1.0),\n",
    "            nn.MaxPool2d(kernel_size=(1, 2), stride=(1, 2), padding=0, dilation=1, ceil_mode=False),\n",
    "            nn.Dropout(p=0.5))\n",
    "        \n",
    "        # FC Layer\n",
    "        self.classify = nn.Sequential(\n",
    "            nn.Linear(in_features=16000, out_features=1, bias=True),\n",
    "            )\n",
    "        \n",
    "\n",
    "    def forward(self, x):\n",
    "        # Layer initial\n",
    "        x = self.initiallayer(x)\n",
    "        # Layer 1\n",
    "        x = self.firstlayer(x)\n",
    "        # Layer 2\n",
    "        x = self.secondlayer(x)\n",
    "        # Layer 3\n",
    "        x = self.thirdlayer(x)\n",
    "        # Layer 4\n",
    "        x = self.fourthlayer(x)\n",
    "        \n",
    "        # FC Layer\n",
    "        x = x.view(x.size(0),-1)\n",
    "        x = self.classify(x)\n",
    "            \n",
    "        return x\n",
    "    \n",
    "    \n",
    "net_ELU = DeepConvNet_ELU()\n",
    "criterion = nn.CrossEntropyLoss()\n",
    "optimizer = torch.optim.Adam(net_ELU.parameters(), lr=1e-2)"
   ]
  },
  {
   "cell_type": "code",
   "execution_count": 14,
   "metadata": {},
   "outputs": [],
   "source": [
    "def backward(net, x, y):\n",
    "        running_loss = 0.0\n",
    "        batch_size = 32\n",
    "        for i in range(int(len(x)/batch_size)):\n",
    "            s = i * batch_size\n",
    "            e = i * batch_size + batch_size\n",
    "\n",
    "            inputs = x[s:e]\n",
    "            labels = y[s:e]\n",
    "\n",
    "\n",
    "            inputs, labels = Variable(inputs), Variable(labels)\n",
    "            optimizer.zero_grad()\n",
    "\n",
    "            outputs = net(inputs)\n",
    "            loss = nn.MSELoss()\n",
    "\n",
    "            output = loss(outputs, labels)\n",
    "            output.backward()\n",
    "\n",
    "            optimizer.step()\n",
    "\n",
    "            running_loss = running_loss + output.data\n",
    "        \n",
    "        return net.forward(x)\n",
    "            \n",
    "def train(net, x, y):\n",
    "        backward(net, x, y)\n",
    "        outputs = backward(net, x, y)\n",
    "        return outputs\n",
    "    "
   ]
  },
  {
   "cell_type": "markdown",
   "metadata": {},
   "source": [
    "# 訓練model (ReLU) train data"
   ]
  },
  {
   "cell_type": "code",
   "execution_count": 48,
   "metadata": {},
   "outputs": [
    {
     "name": "stdout",
     "output_type": "stream",
     "text": [
      "Epoch is:  0\n",
      "ACC is:  0.4925925925925926\n",
      "Epoch is:  30\n",
      "ACC is:  0.4935185185185185\n",
      "Epoch is:  60\n",
      "ACC is:  0.49166666666666664\n",
      "Epoch is:  90\n",
      "ACC is:  0.4981481481481482\n",
      "Epoch is:  120\n",
      "ACC is:  0.5009259259259259\n",
      "Epoch is:  150\n",
      "ACC is:  0.49907407407407406\n",
      "Epoch is:  180\n",
      "ACC is:  0.5\n",
      "Epoch is:  210\n",
      "ACC is:  0.5\n",
      "Epoch is:  240\n",
      "ACC is:  0.5\n",
      "Epoch is:  270\n",
      "ACC is:  0.5\n",
      "Epoch is:  300\n",
      "ACC is:  0.5\n"
     ]
    }
   ],
   "source": [
    "relu_epoch_result_to_plot = []\n",
    "relu_acc_result_to_plot_train = []\n",
    "for epoch in range(301):  # loop over the dataset multiple times\n",
    "            \n",
    "        result = train(net_ReLU,X_train,y_train)\n",
    "        \n",
    "        if epoch%30 == 0:\n",
    "            print (\"Epoch is: \", epoch)\n",
    "            relu_epoch_result_to_plot.append(epoch)\n",
    "            ACC = accuracy_score(y_train, np.round(result.data))\n",
    "            print (\"ACC is: \", ACC)\n",
    "            relu_acc_result_to_plot_train.append(ACC)"
   ]
  },
  {
   "cell_type": "markdown",
   "metadata": {},
   "source": [
    "# 訓練model (ReLU) test data"
   ]
  },
  {
   "cell_type": "code",
   "execution_count": 49,
   "metadata": {},
   "outputs": [
    {
     "name": "stdout",
     "output_type": "stream",
     "text": [
      "Epoch is:  0\n",
      "ACC is:  0.5\n",
      "Epoch is:  30\n",
      "ACC is:  0.5\n",
      "Epoch is:  60\n",
      "ACC is:  0.5\n",
      "Epoch is:  90\n",
      "ACC is:  0.5\n",
      "Epoch is:  120\n",
      "ACC is:  0.5\n",
      "Epoch is:  150\n",
      "ACC is:  0.5\n",
      "Epoch is:  180\n",
      "ACC is:  0.5\n",
      "Epoch is:  210\n",
      "ACC is:  0.5\n",
      "Epoch is:  240\n",
      "ACC is:  0.5\n",
      "Epoch is:  270\n",
      "ACC is:  0.5\n",
      "Epoch is:  300\n",
      "ACC is:  0.5\n"
     ]
    }
   ],
   "source": [
    "relu_epoch_result_to_plot = []\n",
    "relu_acc_result_to_plot = []\n",
    "for epoch in range(301):  # loop over the dataset multiple times\n",
    "            \n",
    "        result = train(net_ReLU,X_test,y_test)\n",
    "        \n",
    "        if epoch%30 == 0:\n",
    "            print (\"Epoch is: \", epoch)\n",
    "            relu_epoch_result_to_plot.append(epoch)\n",
    "            ACC = accuracy_score(y_test, np.round(result.data))\n",
    "            print (\"ACC is: \", ACC)\n",
    "            relu_acc_result_to_plot.append(ACC)"
   ]
  },
  {
   "cell_type": "markdown",
   "metadata": {},
   "source": [
    "# 訓練model (LeakyReLU) train data"
   ]
  },
  {
   "cell_type": "code",
   "execution_count": 50,
   "metadata": {},
   "outputs": [
    {
     "name": "stdout",
     "output_type": "stream",
     "text": [
      "Epoch is:  0\n",
      "ACC is:  0.3851851851851852\n"
     ]
    },
    {
     "ename": "KeyboardInterrupt",
     "evalue": "",
     "output_type": "error",
     "traceback": [
      "\u001b[1;31m---------------------------------------------------------------------------\u001b[0m",
      "\u001b[1;31mKeyboardInterrupt\u001b[0m                         Traceback (most recent call last)",
      "\u001b[1;32m<ipython-input-50-95fe4c4c4ef5>\u001b[0m in \u001b[0;36m<module>\u001b[1;34m()\u001b[0m\n\u001b[0;32m      3\u001b[0m \u001b[1;32mfor\u001b[0m \u001b[0mepoch\u001b[0m \u001b[1;32min\u001b[0m \u001b[0mrange\u001b[0m\u001b[1;33m(\u001b[0m\u001b[1;36m301\u001b[0m\u001b[1;33m)\u001b[0m\u001b[1;33m:\u001b[0m  \u001b[1;31m# loop over the dataset multiple times\u001b[0m\u001b[1;33m\u001b[0m\u001b[0m\n\u001b[0;32m      4\u001b[0m \u001b[1;33m\u001b[0m\u001b[0m\n\u001b[1;32m----> 5\u001b[1;33m         \u001b[0mresult\u001b[0m \u001b[1;33m=\u001b[0m \u001b[0mtrain\u001b[0m\u001b[1;33m(\u001b[0m\u001b[0mnet_LeakyReLU\u001b[0m\u001b[1;33m,\u001b[0m\u001b[0mX_train\u001b[0m\u001b[1;33m,\u001b[0m\u001b[0my_train\u001b[0m\u001b[1;33m)\u001b[0m\u001b[1;33m\u001b[0m\u001b[0m\n\u001b[0m\u001b[0;32m      6\u001b[0m \u001b[1;33m\u001b[0m\u001b[0m\n\u001b[0;32m      7\u001b[0m         \u001b[1;32mif\u001b[0m \u001b[0mepoch\u001b[0m\u001b[1;33m%\u001b[0m\u001b[1;36m30\u001b[0m \u001b[1;33m==\u001b[0m \u001b[1;36m0\u001b[0m\u001b[1;33m:\u001b[0m\u001b[1;33m\u001b[0m\u001b[0m\n",
      "\u001b[1;32m<ipython-input-14-00d1f991a6ee>\u001b[0m in \u001b[0;36mtrain\u001b[1;34m(net, x, y)\u001b[0m\n\u001b[0;32m     26\u001b[0m \u001b[1;33m\u001b[0m\u001b[0m\n\u001b[0;32m     27\u001b[0m \u001b[1;32mdef\u001b[0m \u001b[0mtrain\u001b[0m\u001b[1;33m(\u001b[0m\u001b[0mnet\u001b[0m\u001b[1;33m,\u001b[0m \u001b[0mx\u001b[0m\u001b[1;33m,\u001b[0m \u001b[0my\u001b[0m\u001b[1;33m)\u001b[0m\u001b[1;33m:\u001b[0m\u001b[1;33m\u001b[0m\u001b[0m\n\u001b[1;32m---> 28\u001b[1;33m         \u001b[0mbackward\u001b[0m\u001b[1;33m(\u001b[0m\u001b[0mnet\u001b[0m\u001b[1;33m,\u001b[0m \u001b[0mx\u001b[0m\u001b[1;33m,\u001b[0m \u001b[0my\u001b[0m\u001b[1;33m)\u001b[0m\u001b[1;33m\u001b[0m\u001b[0m\n\u001b[0m\u001b[0;32m     29\u001b[0m         \u001b[0moutputs\u001b[0m \u001b[1;33m=\u001b[0m \u001b[0mbackward\u001b[0m\u001b[1;33m(\u001b[0m\u001b[0mnet\u001b[0m\u001b[1;33m,\u001b[0m \u001b[0mx\u001b[0m\u001b[1;33m,\u001b[0m \u001b[0my\u001b[0m\u001b[1;33m)\u001b[0m\u001b[1;33m\u001b[0m\u001b[0m\n\u001b[0;32m     30\u001b[0m         \u001b[1;32mreturn\u001b[0m \u001b[0moutputs\u001b[0m\u001b[1;33m\u001b[0m\u001b[0m\n",
      "\u001b[1;32m<ipython-input-14-00d1f991a6ee>\u001b[0m in \u001b[0;36mbackward\u001b[1;34m(net, x, y)\u001b[0m\n\u001b[0;32m     13\u001b[0m             \u001b[0moptimizer\u001b[0m\u001b[1;33m.\u001b[0m\u001b[0mzero_grad\u001b[0m\u001b[1;33m(\u001b[0m\u001b[1;33m)\u001b[0m\u001b[1;33m\u001b[0m\u001b[0m\n\u001b[0;32m     14\u001b[0m \u001b[1;33m\u001b[0m\u001b[0m\n\u001b[1;32m---> 15\u001b[1;33m             \u001b[0moutputs\u001b[0m \u001b[1;33m=\u001b[0m \u001b[0mnet\u001b[0m\u001b[1;33m(\u001b[0m\u001b[0minputs\u001b[0m\u001b[1;33m)\u001b[0m\u001b[1;33m\u001b[0m\u001b[0m\n\u001b[0m\u001b[0;32m     16\u001b[0m             \u001b[0mloss\u001b[0m \u001b[1;33m=\u001b[0m \u001b[0mnn\u001b[0m\u001b[1;33m.\u001b[0m\u001b[0mMSELoss\u001b[0m\u001b[1;33m(\u001b[0m\u001b[1;33m)\u001b[0m\u001b[1;33m\u001b[0m\u001b[0m\n\u001b[0;32m     17\u001b[0m \u001b[1;33m\u001b[0m\u001b[0m\n",
      "\u001b[1;32mC:\\ProgramData\\Anaconda3\\lib\\site-packages\\torch\\nn\\modules\\module.py\u001b[0m in \u001b[0;36m__call__\u001b[1;34m(self, *input, **kwargs)\u001b[0m\n\u001b[0;32m    487\u001b[0m             \u001b[0mresult\u001b[0m \u001b[1;33m=\u001b[0m \u001b[0mself\u001b[0m\u001b[1;33m.\u001b[0m\u001b[0m_slow_forward\u001b[0m\u001b[1;33m(\u001b[0m\u001b[1;33m*\u001b[0m\u001b[0minput\u001b[0m\u001b[1;33m,\u001b[0m \u001b[1;33m**\u001b[0m\u001b[0mkwargs\u001b[0m\u001b[1;33m)\u001b[0m\u001b[1;33m\u001b[0m\u001b[0m\n\u001b[0;32m    488\u001b[0m         \u001b[1;32melse\u001b[0m\u001b[1;33m:\u001b[0m\u001b[1;33m\u001b[0m\u001b[0m\n\u001b[1;32m--> 489\u001b[1;33m             \u001b[0mresult\u001b[0m \u001b[1;33m=\u001b[0m \u001b[0mself\u001b[0m\u001b[1;33m.\u001b[0m\u001b[0mforward\u001b[0m\u001b[1;33m(\u001b[0m\u001b[1;33m*\u001b[0m\u001b[0minput\u001b[0m\u001b[1;33m,\u001b[0m \u001b[1;33m**\u001b[0m\u001b[0mkwargs\u001b[0m\u001b[1;33m)\u001b[0m\u001b[1;33m\u001b[0m\u001b[0m\n\u001b[0m\u001b[0;32m    490\u001b[0m         \u001b[1;32mfor\u001b[0m \u001b[0mhook\u001b[0m \u001b[1;32min\u001b[0m \u001b[0mself\u001b[0m\u001b[1;33m.\u001b[0m\u001b[0m_forward_hooks\u001b[0m\u001b[1;33m.\u001b[0m\u001b[0mvalues\u001b[0m\u001b[1;33m(\u001b[0m\u001b[1;33m)\u001b[0m\u001b[1;33m:\u001b[0m\u001b[1;33m\u001b[0m\u001b[0m\n\u001b[0;32m    491\u001b[0m             \u001b[0mhook_result\u001b[0m \u001b[1;33m=\u001b[0m \u001b[0mhook\u001b[0m\u001b[1;33m(\u001b[0m\u001b[0mself\u001b[0m\u001b[1;33m,\u001b[0m \u001b[0minput\u001b[0m\u001b[1;33m,\u001b[0m \u001b[0mresult\u001b[0m\u001b[1;33m)\u001b[0m\u001b[1;33m\u001b[0m\u001b[0m\n",
      "\u001b[1;32m<ipython-input-9-7523e9bb61e1>\u001b[0m in \u001b[0;36mforward\u001b[1;34m(self, x)\u001b[0m\n\u001b[0;32m     57\u001b[0m         \u001b[0mx\u001b[0m \u001b[1;33m=\u001b[0m \u001b[0mself\u001b[0m\u001b[1;33m.\u001b[0m\u001b[0mthirdlayer\u001b[0m\u001b[1;33m(\u001b[0m\u001b[0mx\u001b[0m\u001b[1;33m)\u001b[0m\u001b[1;33m\u001b[0m\u001b[0m\n\u001b[0;32m     58\u001b[0m         \u001b[1;31m# Layer 4\u001b[0m\u001b[1;33m\u001b[0m\u001b[1;33m\u001b[0m\u001b[0m\n\u001b[1;32m---> 59\u001b[1;33m         \u001b[0mx\u001b[0m \u001b[1;33m=\u001b[0m \u001b[0mself\u001b[0m\u001b[1;33m.\u001b[0m\u001b[0mfourthlayer\u001b[0m\u001b[1;33m(\u001b[0m\u001b[0mx\u001b[0m\u001b[1;33m)\u001b[0m\u001b[1;33m\u001b[0m\u001b[0m\n\u001b[0m\u001b[0;32m     60\u001b[0m \u001b[1;33m\u001b[0m\u001b[0m\n\u001b[0;32m     61\u001b[0m         \u001b[1;31m# FC Layer\u001b[0m\u001b[1;33m\u001b[0m\u001b[1;33m\u001b[0m\u001b[0m\n",
      "\u001b[1;32mC:\\ProgramData\\Anaconda3\\lib\\site-packages\\torch\\nn\\modules\\module.py\u001b[0m in \u001b[0;36m__call__\u001b[1;34m(self, *input, **kwargs)\u001b[0m\n\u001b[0;32m    487\u001b[0m             \u001b[0mresult\u001b[0m \u001b[1;33m=\u001b[0m \u001b[0mself\u001b[0m\u001b[1;33m.\u001b[0m\u001b[0m_slow_forward\u001b[0m\u001b[1;33m(\u001b[0m\u001b[1;33m*\u001b[0m\u001b[0minput\u001b[0m\u001b[1;33m,\u001b[0m \u001b[1;33m**\u001b[0m\u001b[0mkwargs\u001b[0m\u001b[1;33m)\u001b[0m\u001b[1;33m\u001b[0m\u001b[0m\n\u001b[0;32m    488\u001b[0m         \u001b[1;32melse\u001b[0m\u001b[1;33m:\u001b[0m\u001b[1;33m\u001b[0m\u001b[0m\n\u001b[1;32m--> 489\u001b[1;33m             \u001b[0mresult\u001b[0m \u001b[1;33m=\u001b[0m \u001b[0mself\u001b[0m\u001b[1;33m.\u001b[0m\u001b[0mforward\u001b[0m\u001b[1;33m(\u001b[0m\u001b[1;33m*\u001b[0m\u001b[0minput\u001b[0m\u001b[1;33m,\u001b[0m \u001b[1;33m**\u001b[0m\u001b[0mkwargs\u001b[0m\u001b[1;33m)\u001b[0m\u001b[1;33m\u001b[0m\u001b[0m\n\u001b[0m\u001b[0;32m    490\u001b[0m         \u001b[1;32mfor\u001b[0m \u001b[0mhook\u001b[0m \u001b[1;32min\u001b[0m \u001b[0mself\u001b[0m\u001b[1;33m.\u001b[0m\u001b[0m_forward_hooks\u001b[0m\u001b[1;33m.\u001b[0m\u001b[0mvalues\u001b[0m\u001b[1;33m(\u001b[0m\u001b[1;33m)\u001b[0m\u001b[1;33m:\u001b[0m\u001b[1;33m\u001b[0m\u001b[0m\n\u001b[0;32m    491\u001b[0m             \u001b[0mhook_result\u001b[0m \u001b[1;33m=\u001b[0m \u001b[0mhook\u001b[0m\u001b[1;33m(\u001b[0m\u001b[0mself\u001b[0m\u001b[1;33m,\u001b[0m \u001b[0minput\u001b[0m\u001b[1;33m,\u001b[0m \u001b[0mresult\u001b[0m\u001b[1;33m)\u001b[0m\u001b[1;33m\u001b[0m\u001b[0m\n",
      "\u001b[1;32mC:\\ProgramData\\Anaconda3\\lib\\site-packages\\torch\\nn\\modules\\container.py\u001b[0m in \u001b[0;36mforward\u001b[1;34m(self, input)\u001b[0m\n\u001b[0;32m     90\u001b[0m     \u001b[1;32mdef\u001b[0m \u001b[0mforward\u001b[0m\u001b[1;33m(\u001b[0m\u001b[0mself\u001b[0m\u001b[1;33m,\u001b[0m \u001b[0minput\u001b[0m\u001b[1;33m)\u001b[0m\u001b[1;33m:\u001b[0m\u001b[1;33m\u001b[0m\u001b[0m\n\u001b[0;32m     91\u001b[0m         \u001b[1;32mfor\u001b[0m \u001b[0mmodule\u001b[0m \u001b[1;32min\u001b[0m \u001b[0mself\u001b[0m\u001b[1;33m.\u001b[0m\u001b[0m_modules\u001b[0m\u001b[1;33m.\u001b[0m\u001b[0mvalues\u001b[0m\u001b[1;33m(\u001b[0m\u001b[1;33m)\u001b[0m\u001b[1;33m:\u001b[0m\u001b[1;33m\u001b[0m\u001b[0m\n\u001b[1;32m---> 92\u001b[1;33m             \u001b[0minput\u001b[0m \u001b[1;33m=\u001b[0m \u001b[0mmodule\u001b[0m\u001b[1;33m(\u001b[0m\u001b[0minput\u001b[0m\u001b[1;33m)\u001b[0m\u001b[1;33m\u001b[0m\u001b[0m\n\u001b[0m\u001b[0;32m     93\u001b[0m         \u001b[1;32mreturn\u001b[0m \u001b[0minput\u001b[0m\u001b[1;33m\u001b[0m\u001b[0m\n\u001b[0;32m     94\u001b[0m \u001b[1;33m\u001b[0m\u001b[0m\n",
      "\u001b[1;32mC:\\ProgramData\\Anaconda3\\lib\\site-packages\\torch\\nn\\modules\\module.py\u001b[0m in \u001b[0;36m__call__\u001b[1;34m(self, *input, **kwargs)\u001b[0m\n\u001b[0;32m    487\u001b[0m             \u001b[0mresult\u001b[0m \u001b[1;33m=\u001b[0m \u001b[0mself\u001b[0m\u001b[1;33m.\u001b[0m\u001b[0m_slow_forward\u001b[0m\u001b[1;33m(\u001b[0m\u001b[1;33m*\u001b[0m\u001b[0minput\u001b[0m\u001b[1;33m,\u001b[0m \u001b[1;33m**\u001b[0m\u001b[0mkwargs\u001b[0m\u001b[1;33m)\u001b[0m\u001b[1;33m\u001b[0m\u001b[0m\n\u001b[0;32m    488\u001b[0m         \u001b[1;32melse\u001b[0m\u001b[1;33m:\u001b[0m\u001b[1;33m\u001b[0m\u001b[0m\n\u001b[1;32m--> 489\u001b[1;33m             \u001b[0mresult\u001b[0m \u001b[1;33m=\u001b[0m \u001b[0mself\u001b[0m\u001b[1;33m.\u001b[0m\u001b[0mforward\u001b[0m\u001b[1;33m(\u001b[0m\u001b[1;33m*\u001b[0m\u001b[0minput\u001b[0m\u001b[1;33m,\u001b[0m \u001b[1;33m**\u001b[0m\u001b[0mkwargs\u001b[0m\u001b[1;33m)\u001b[0m\u001b[1;33m\u001b[0m\u001b[0m\n\u001b[0m\u001b[0;32m    490\u001b[0m         \u001b[1;32mfor\u001b[0m \u001b[0mhook\u001b[0m \u001b[1;32min\u001b[0m \u001b[0mself\u001b[0m\u001b[1;33m.\u001b[0m\u001b[0m_forward_hooks\u001b[0m\u001b[1;33m.\u001b[0m\u001b[0mvalues\u001b[0m\u001b[1;33m(\u001b[0m\u001b[1;33m)\u001b[0m\u001b[1;33m:\u001b[0m\u001b[1;33m\u001b[0m\u001b[0m\n\u001b[0;32m    491\u001b[0m             \u001b[0mhook_result\u001b[0m \u001b[1;33m=\u001b[0m \u001b[0mhook\u001b[0m\u001b[1;33m(\u001b[0m\u001b[0mself\u001b[0m\u001b[1;33m,\u001b[0m \u001b[0minput\u001b[0m\u001b[1;33m,\u001b[0m \u001b[0mresult\u001b[0m\u001b[1;33m)\u001b[0m\u001b[1;33m\u001b[0m\u001b[0m\n",
      "\u001b[1;32mC:\\ProgramData\\Anaconda3\\lib\\site-packages\\torch\\nn\\modules\\activation.py\u001b[0m in \u001b[0;36mforward\u001b[1;34m(self, input)\u001b[0m\n\u001b[0;32m    542\u001b[0m     \u001b[1;33m@\u001b[0m\u001b[0mweak_script_method\u001b[0m\u001b[1;33m\u001b[0m\u001b[0m\n\u001b[0;32m    543\u001b[0m     \u001b[1;32mdef\u001b[0m \u001b[0mforward\u001b[0m\u001b[1;33m(\u001b[0m\u001b[0mself\u001b[0m\u001b[1;33m,\u001b[0m \u001b[0minput\u001b[0m\u001b[1;33m)\u001b[0m\u001b[1;33m:\u001b[0m\u001b[1;33m\u001b[0m\u001b[0m\n\u001b[1;32m--> 544\u001b[1;33m         \u001b[1;32mreturn\u001b[0m \u001b[0mF\u001b[0m\u001b[1;33m.\u001b[0m\u001b[0mleaky_relu\u001b[0m\u001b[1;33m(\u001b[0m\u001b[0minput\u001b[0m\u001b[1;33m,\u001b[0m \u001b[0mself\u001b[0m\u001b[1;33m.\u001b[0m\u001b[0mnegative_slope\u001b[0m\u001b[1;33m,\u001b[0m \u001b[0mself\u001b[0m\u001b[1;33m.\u001b[0m\u001b[0minplace\u001b[0m\u001b[1;33m)\u001b[0m\u001b[1;33m\u001b[0m\u001b[0m\n\u001b[0m\u001b[0;32m    545\u001b[0m \u001b[1;33m\u001b[0m\u001b[0m\n\u001b[0;32m    546\u001b[0m     \u001b[1;32mdef\u001b[0m \u001b[0mextra_repr\u001b[0m\u001b[1;33m(\u001b[0m\u001b[0mself\u001b[0m\u001b[1;33m)\u001b[0m\u001b[1;33m:\u001b[0m\u001b[1;33m\u001b[0m\u001b[0m\n",
      "\u001b[1;32mC:\\ProgramData\\Anaconda3\\lib\\site-packages\\torch\\nn\\functional.py\u001b[0m in \u001b[0;36mleaky_relu\u001b[1;34m(input, negative_slope, inplace)\u001b[0m\n\u001b[0;32m   1016\u001b[0m         \u001b[0mresult\u001b[0m \u001b[1;33m=\u001b[0m \u001b[0mtorch\u001b[0m\u001b[1;33m.\u001b[0m\u001b[0m_C\u001b[0m\u001b[1;33m.\u001b[0m\u001b[0m_nn\u001b[0m\u001b[1;33m.\u001b[0m\u001b[0mleaky_relu_\u001b[0m\u001b[1;33m(\u001b[0m\u001b[0minput\u001b[0m\u001b[1;33m,\u001b[0m \u001b[0mnegative_slope\u001b[0m\u001b[1;33m)\u001b[0m\u001b[1;33m\u001b[0m\u001b[0m\n\u001b[0;32m   1017\u001b[0m     \u001b[1;32melse\u001b[0m\u001b[1;33m:\u001b[0m\u001b[1;33m\u001b[0m\u001b[0m\n\u001b[1;32m-> 1018\u001b[1;33m         \u001b[0mresult\u001b[0m \u001b[1;33m=\u001b[0m \u001b[0mtorch\u001b[0m\u001b[1;33m.\u001b[0m\u001b[0m_C\u001b[0m\u001b[1;33m.\u001b[0m\u001b[0m_nn\u001b[0m\u001b[1;33m.\u001b[0m\u001b[0mleaky_relu\u001b[0m\u001b[1;33m(\u001b[0m\u001b[0minput\u001b[0m\u001b[1;33m,\u001b[0m \u001b[0mnegative_slope\u001b[0m\u001b[1;33m)\u001b[0m\u001b[1;33m\u001b[0m\u001b[0m\n\u001b[0m\u001b[0;32m   1019\u001b[0m     \u001b[1;32mreturn\u001b[0m \u001b[0mresult\u001b[0m\u001b[1;33m\u001b[0m\u001b[0m\n\u001b[0;32m   1020\u001b[0m \u001b[1;33m\u001b[0m\u001b[0m\n",
      "\u001b[1;31mKeyboardInterrupt\u001b[0m: "
     ]
    }
   ],
   "source": [
    "leakyrelu_epoch_result_to_plot = []\n",
    "leakyrelu_acc_result_to_plot_train = []\n",
    "for epoch in range(301):  # loop over the dataset multiple times\n",
    "            \n",
    "        result = train(net_LeakyReLU,X_train,y_train)\n",
    "        \n",
    "        if epoch%30 == 0:\n",
    "            print (\"Epoch is: \", epoch)\n",
    "            leakyrelu_epoch_result_to_plot.append(epoch)\n",
    "            ACC = accuracy_score(y_train, np.round(result.data))\n",
    "            print (\"ACC is: \", ACC)\n",
    "            leakyrelu_acc_result_to_plot_train.append(ACC)"
   ]
  },
  {
   "cell_type": "markdown",
   "metadata": {},
   "source": [
    "# 訓練model (LeakyReLU) test data"
   ]
  },
  {
   "cell_type": "code",
   "execution_count": null,
   "metadata": {},
   "outputs": [],
   "source": [
    "leakyrelu_epoch_result_to_plot = []\n",
    "leakyrelu_acc_result_to_plot = []\n",
    "for epoch in range(301):  # loop over the dataset multiple times\n",
    "            \n",
    "        result = train(net_LeakyReLU,X_test,y_test)\n",
    "        \n",
    "        if epoch%30 == 0:\n",
    "            print (\"Epoch is: \", epoch)\n",
    "            leakyrelu_epoch_result_to_plot.append(epoch)\n",
    "            ACC = accuracy_score(y_test, np.round(result.data))\n",
    "            print (\"ACC is: \", ACC)\n",
    "            leakyrelu_acc_result_to_plot.append(ACC)"
   ]
  },
  {
   "cell_type": "markdown",
   "metadata": {},
   "source": [
    "# 訓練model (ELU) train data"
   ]
  },
  {
   "cell_type": "code",
   "execution_count": null,
   "metadata": {},
   "outputs": [],
   "source": [
    "elu_epoch_result_to_plot = []\n",
    "elu_acc_result_to_plot_train = []\n",
    "for epoch in range(301):  # loop over the dataset multiple times\n",
    "            \n",
    "        result = train(net_ELU,X_train,y_train)\n",
    "        \n",
    "        if epoch%30 == 0:\n",
    "            print (\"Epoch is: \", epoch)\n",
    "            elu_epoch_result_to_plot.append(epoch)\n",
    "            ACC = accuracy_score(y_train, np.round(result.data))\n",
    "            print (\"ACC is: \", ACC)\n",
    "            elu_acc_result_to_plot_train.append(ACC)"
   ]
  },
  {
   "cell_type": "markdown",
   "metadata": {},
   "source": [
    "# 訓練model (ELU) test data"
   ]
  },
  {
   "cell_type": "code",
   "execution_count": null,
   "metadata": {},
   "outputs": [],
   "source": [
    "elu_epoch_result_to_plot = []\n",
    "elu_acc_result_to_plot = []\n",
    "for epoch in range(301):  # loop over the dataset multiple times\n",
    "            \n",
    "        result = train(net_ELU,X_test,y_test)\n",
    "        \n",
    "        if epoch%30 == 0:\n",
    "            print (\"Epoch is: \", epoch)\n",
    "            elu_epoch_result_to_plot.append(epoch)\n",
    "            ACC = accuracy_score(y_test, np.round(result.data))\n",
    "            print (\"ACC is: \", ACC)\n",
    "            elu_acc_result_to_plot.append(ACC)"
   ]
  },
  {
   "cell_type": "code",
   "execution_count": null,
   "metadata": {},
   "outputs": [],
   "source": [
    "import matplotlib as mpl\n",
    "import matplotlib.pyplot as plt\n",
    "\n",
    "plt.title('Activation function comparision(DeepConvNet)')\n",
    "plt.plot(relu_epoch_result_to_plot, relu_acc_result_to_plot, color='green', label='relu_test')\n",
    "plt.plot(relu_epoch_result_to_plot, relu_acc_result_to_plot_train, color='cyan', label='relu_train')\n",
    "plt.plot(leakyrelu_epoch_result_to_plot, leakyrelu_acc_result_to_plot,  color='skyblue', label='leaky_relu_test')\n",
    "plt.plot(leakyrelu_epoch_result_to_plot, leakyrelu_acc_result_to_plot_train,  color='blue', label='leaky_relu_train')\n",
    "plt.plot(elu_epoch_result_to_plot, elu_acc_result_to_plot, color='red', label='elu_test')\n",
    "plt.plot(elu_epoch_result_to_plot, elu_acc_result_to_plot_train, color='pink', label='elu_train')\n",
    "\n",
    "plt.legend() \n",
    "\n",
    "plt.xlabel('Epoch')\n",
    "plt.ylabel('Accuracy (%)')\n",
    "plt.show()\n"
   ]
  },
  {
   "cell_type": "code",
   "execution_count": null,
   "metadata": {},
   "outputs": [],
   "source": []
  }
 ],
 "metadata": {
  "kernelspec": {
   "display_name": "Python 3",
   "language": "python",
   "name": "python3"
  },
  "language_info": {
   "codemirror_mode": {
    "name": "ipython",
    "version": 3
   },
   "file_extension": ".py",
   "mimetype": "text/x-python",
   "name": "python",
   "nbconvert_exporter": "python",
   "pygments_lexer": "ipython3",
   "version": "3.6.5"
  }
 },
 "nbformat": 4,
 "nbformat_minor": 1
}
